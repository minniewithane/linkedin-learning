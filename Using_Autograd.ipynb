{
  "nbformat": 4,
  "nbformat_minor": 0,
  "metadata": {
    "colab": {
      "provenance": [],
      "include_colab_link": true
    },
    "kernelspec": {
      "name": "python3",
      "display_name": "Python 3"
    }
  },
  "cells": [
    {
      "cell_type": "markdown",
      "metadata": {
        "id": "view-in-github",
        "colab_type": "text"
      },
      "source": [
        "<a href=\"https://colab.research.google.com/github/minniewithane/linkedin-learning/blob/main/Using_Autograd.ipynb\" target=\"_parent\"><img src=\"https://colab.research.google.com/assets/colab-badge.svg\" alt=\"Open In Colab\"/></a>"
      ]
    },
    {
      "cell_type": "markdown",
      "metadata": {
        "id": "K-BUF2iqY_0n"
      },
      "source": [
        "# Autograd with tensors"
      ]
    },
    {
      "cell_type": "code",
      "metadata": {
        "id": "nbCTeu9AZDak"
      },
      "source": [
        "import torch"
      ],
      "execution_count": 1,
      "outputs": []
    },
    {
      "cell_type": "code",
      "metadata": {
        "id": "AIpMXYEQZDYG",
        "colab": {
          "base_uri": "https://localhost:8080/"
        },
        "outputId": "597fe899-f949-4e68-ee29-b8730e44337a"
      },
      "source": [
        "w = torch.randn(4, 3, requires_grad=True)\n",
        "w"
      ],
      "execution_count": 6,
      "outputs": [
        {
          "output_type": "execute_result",
          "data": {
            "text/plain": [
              "tensor([[-0.2645,  1.8793,  1.1813],\n",
              "        [ 0.4456,  1.3343,  2.4019],\n",
              "        [ 0.1549,  0.4787, -0.7273],\n",
              "        [-0.7036,  1.8591, -0.0081]], requires_grad=True)"
            ]
          },
          "metadata": {},
          "execution_count": 6
        }
      ]
    },
    {
      "cell_type": "code",
      "metadata": {
        "id": "tPCDpREGZDV_",
        "colab": {
          "base_uri": "https://localhost:8080/"
        },
        "outputId": "1e4595c3-71dd-42fe-b39b-1b356ba73753"
      },
      "source": [
        "w.requires_grad_(False)"
      ],
      "execution_count": 8,
      "outputs": [
        {
          "output_type": "execute_result",
          "data": {
            "text/plain": [
              "tensor([[-0.2645,  1.8793,  1.1813],\n",
              "        [ 0.4456,  1.3343,  2.4019],\n",
              "        [ 0.1549,  0.4787, -0.7273],\n",
              "        [-0.7036,  1.8591, -0.0081]])"
            ]
          },
          "metadata": {},
          "execution_count": 8
        }
      ]
    },
    {
      "cell_type": "code",
      "metadata": {
        "id": "tc6j07MfZDTW",
        "colab": {
          "base_uri": "https://localhost:8080/"
        },
        "outputId": "7aa9e249-d162-4dfb-db67-91b89b8270a0"
      },
      "source": [
        "w.requires_grad_(True)"
      ],
      "execution_count": 9,
      "outputs": [
        {
          "output_type": "execute_result",
          "data": {
            "text/plain": [
              "tensor([[-0.2645,  1.8793,  1.1813],\n",
              "        [ 0.4456,  1.3343,  2.4019],\n",
              "        [ 0.1549,  0.4787, -0.7273],\n",
              "        [-0.7036,  1.8591, -0.0081]], requires_grad=True)"
            ]
          },
          "metadata": {},
          "execution_count": 9
        }
      ]
    },
    {
      "cell_type": "code",
      "metadata": {
        "id": "FYs5XvOlZDOH",
        "colab": {
          "base_uri": "https://localhost:8080/"
        },
        "outputId": "c6f4b04d-ee2f-429c-da23-a64c702cfa8f"
      },
      "source": [
        "y = torch.exp(w)\n",
        "print(y)"
      ],
      "execution_count": 12,
      "outputs": [
        {
          "output_type": "stream",
          "name": "stdout",
          "text": [
            "tensor([[ 0.7676,  6.5488,  3.2587],\n",
            "        [ 1.5614,  3.7972, 11.0442],\n",
            "        [ 1.1676,  1.6140,  0.4832],\n",
            "        [ 0.4948,  6.4177,  0.9919]], grad_fn=<ExpBackward0>)\n"
          ]
        }
      ]
    },
    {
      "cell_type": "code",
      "metadata": {
        "id": "sH5UvYQRZDLx"
      },
      "source": [
        "output = y.mean()"
      ],
      "execution_count": 14,
      "outputs": []
    },
    {
      "cell_type": "code",
      "metadata": {
        "id": "5ZLCejs4ZDJY",
        "colab": {
          "base_uri": "https://localhost:8080/"
        },
        "outputId": "40788ead-edde-4635-e152-4f123a112ccc"
      },
      "source": [
        "print(w.grad)"
      ],
      "execution_count": 15,
      "outputs": [
        {
          "output_type": "stream",
          "name": "stdout",
          "text": [
            "None\n"
          ]
        }
      ]
    },
    {
      "cell_type": "code",
      "metadata": {
        "id": "ZadWbpkSZDHG"
      },
      "source": [
        "output.backward()"
      ],
      "execution_count": 16,
      "outputs": []
    },
    {
      "cell_type": "code",
      "metadata": {
        "id": "AHJk7sFyZDEy",
        "colab": {
          "base_uri": "https://localhost:8080/"
        },
        "outputId": "16ade28a-a0ed-4b06-a319-9b03ef4aca88"
      },
      "source": [
        "print(w.grad)"
      ],
      "execution_count": 17,
      "outputs": [
        {
          "output_type": "stream",
          "name": "stdout",
          "text": [
            "tensor([[0.0640, 0.5457, 0.2716],\n",
            "        [0.1301, 0.3164, 0.9203],\n",
            "        [0.0973, 0.1345, 0.0403],\n",
            "        [0.0412, 0.5348, 0.0827]])\n"
          ]
        }
      ]
    },
    {
      "cell_type": "code",
      "metadata": {
        "id": "YVpjuVGsZDCa",
        "colab": {
          "base_uri": "https://localhost:8080/"
        },
        "outputId": "64026482-c147-4898-d321-12d476e652ec"
      },
      "source": [
        "print(output.requires_grad)"
      ],
      "execution_count": 19,
      "outputs": [
        {
          "output_type": "stream",
          "name": "stdout",
          "text": [
            "True\n"
          ]
        }
      ]
    },
    {
      "cell_type": "code",
      "metadata": {
        "id": "WDcj6yzYZC_w",
        "colab": {
          "base_uri": "https://localhost:8080/"
        },
        "outputId": "15b33e35-bf01-4f7f-e7ca-7fc624f5307b"
      },
      "source": [
        "with torch.no_grad():\n",
        "    output = (w+y).mean()\n",
        "    print(w.requires_grad)"
      ],
      "execution_count": 21,
      "outputs": [
        {
          "output_type": "stream",
          "name": "stdout",
          "text": [
            "True\n"
          ]
        }
      ]
    },
    {
      "cell_type": "code",
      "metadata": {
        "id": "rgQ6iBEfZC9H"
      },
      "source": [],
      "execution_count": null,
      "outputs": []
    },
    {
      "cell_type": "code",
      "metadata": {
        "id": "pWxFJywCZC6_"
      },
      "source": [],
      "execution_count": null,
      "outputs": []
    },
    {
      "cell_type": "code",
      "metadata": {
        "id": "_SjdcUpHZC4y"
      },
      "source": [],
      "execution_count": null,
      "outputs": []
    },
    {
      "cell_type": "code",
      "metadata": {
        "id": "ph9sMtadZC2f"
      },
      "source": [],
      "execution_count": null,
      "outputs": []
    },
    {
      "cell_type": "code",
      "metadata": {
        "id": "QHFUh0XKZC0K"
      },
      "source": [],
      "execution_count": null,
      "outputs": []
    },
    {
      "cell_type": "code",
      "metadata": {
        "id": "AYvKPqwDZCxz"
      },
      "source": [],
      "execution_count": null,
      "outputs": []
    },
    {
      "cell_type": "code",
      "metadata": {
        "id": "8jOCzyjoZCvq"
      },
      "source": [],
      "execution_count": null,
      "outputs": []
    },
    {
      "cell_type": "code",
      "metadata": {
        "id": "3Of_3Y1sZCtv"
      },
      "source": [],
      "execution_count": null,
      "outputs": []
    },
    {
      "cell_type": "code",
      "metadata": {
        "id": "mAWF-KHrY5Ww"
      },
      "source": [],
      "execution_count": null,
      "outputs": []
    }
  ]
}