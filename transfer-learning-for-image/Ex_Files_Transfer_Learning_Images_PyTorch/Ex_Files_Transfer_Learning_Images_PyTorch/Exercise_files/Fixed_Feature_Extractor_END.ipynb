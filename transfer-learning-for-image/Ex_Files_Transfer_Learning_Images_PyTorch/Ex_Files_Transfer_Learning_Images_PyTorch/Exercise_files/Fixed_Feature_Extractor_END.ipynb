{
  "nbformat": 4,
  "nbformat_minor": 0,
  "metadata": {
    "colab": {
      "name": "Fixed_Feature_Extractor.ipynb",
      "version": "0.3.2",
      "provenance": [],
      "collapsed_sections": [
        "eMvdfArHRj7I",
        "3KnVo-JymOUh",
        "QmiIFDJXDsan",
        "icQvTdftMkPq",
        "lCoFRFofMx7p"
      ],
      "machine_shape": "hm"
    },
    "kernelspec": {
      "name": "python3",
      "display_name": "Python 3"
    },
    "accelerator": "GPU"
  },
  "cells": [
    {
      "cell_type": "markdown",
      "metadata": {
        "id": "7z2kILHRWcKg",
        "colab_type": "text"
      },
      "source": [
        "# Transfer learning - Fixed Feature Extractor\n"
      ]
    },
    {
      "cell_type": "markdown",
      "metadata": {
        "id": "eMvdfArHRj7I",
        "colab_type": "text"
      },
      "source": [
        "## Creating and using a Fixed Feature Extractor\n"
      ]
    },
    {
      "cell_type": "code",
      "metadata": {
        "id": "z3w2sce8WXYa",
        "colab_type": "code",
        "colab": {}
      },
      "source": [
        "# Setting seeds to try and ensure we have the same results - this is not guaranteed across PyTorch releases.\n",
        "import torch\n",
        "torch.manual_seed(0)\n",
        "torch.backends.cudnn.deterministic = True\n",
        "torch.backends.cudnn.benchmark = False"
      ],
      "execution_count": 0,
      "outputs": []
    },
    {
      "cell_type": "code",
      "metadata": {
        "id": "GxDchYyEo5Fe",
        "colab_type": "code",
        "colab": {}
      },
      "source": [
        "import torch.nn as nn\n",
        "import torch.nn.functional as F\n",
        "from torchvision import datasets, transforms, models\n",
        "from torch.utils.data import DataLoader"
      ],
      "execution_count": 0,
      "outputs": []
    },
    {
      "cell_type": "code",
      "metadata": {
        "id": "CYMYVmxMpX2z",
        "colab_type": "code",
        "colab": {
          "base_uri": "https://localhost:8080/",
          "height": 34
        },
        "outputId": "32b20996-ada4-4ead-f1d5-22f00e407bfa"
      },
      "source": [
        "device = torch.device('cuda' if torch.cuda.is_available() else 'cpu')\n",
        "device"
      ],
      "execution_count": 3,
      "outputs": [
        {
          "output_type": "execute_result",
          "data": {
            "text/plain": [
              "device(type='cuda')"
            ]
          },
          "metadata": {
            "tags": []
          },
          "execution_count": 3
        }
      ]
    },
    {
      "cell_type": "code",
      "metadata": {
        "id": "fJEw9S-Up23y",
        "colab_type": "code",
        "colab": {
          "base_uri": "https://localhost:8080/",
          "height": 71
        },
        "outputId": "f7952642-b837-485a-d872-0c45e8a7dd23"
      },
      "source": [
        "mean = [0.485, 0.456, 0.406]\n",
        "std = [0.229, 0.224, 0.225]\n",
        "\n",
        "transform = transforms.Compose([\n",
        "    transforms.Resize((224, 224)),\n",
        "    transforms.ToTensor(),\n",
        "    transforms.Normalize(mean=mean, std=std)\n",
        "    ])\n",
        "\n",
        "trainset = datasets.CIFAR10(root='~/.pytorch/CIFAR10',train=True, download=True,transform=transform)\n",
        "testset = datasets.CIFAR10(root='~/.pytorch/CIFAR10',train=False, transform=transform)\n",
        "\n",
        "trainloader = DataLoader(trainset, batch_size=64, shuffle=True)\n",
        "testloader = DataLoader(testset, batch_size=64, shuffle=False)"
      ],
      "execution_count": 4,
      "outputs": [
        {
          "output_type": "stream",
          "text": [
            "  0%|          | 0/170498071 [00:00<?, ?it/s]"
          ],
          "name": "stderr"
        },
        {
          "output_type": "stream",
          "text": [
            "Downloading https://www.cs.toronto.edu/~kriz/cifar-10-python.tar.gz to /root/.pytorch/CIFAR10/cifar-10-python.tar.gz\n"
          ],
          "name": "stdout"
        },
        {
          "output_type": "stream",
          "text": [
            "170500096it [00:01, 88189484.42it/s]                               \n"
          ],
          "name": "stderr"
        }
      ]
    },
    {
      "cell_type": "code",
      "metadata": {
        "id": "GjwrsEMR3-6D",
        "colab_type": "code",
        "colab": {
          "base_uri": "https://localhost:8080/",
          "height": 51
        },
        "outputId": "d0489afd-73e7-456c-989d-98217f942fce"
      },
      "source": [
        "model = models.vgg16(pretrained=True)"
      ],
      "execution_count": 5,
      "outputs": [
        {
          "output_type": "stream",
          "text": [
            "Downloading: \"https://download.pytorch.org/models/vgg16-397923af.pth\" to /root/.cache/torch/checkpoints/vgg16-397923af.pth\n",
            "100%|██████████| 553433881/553433881 [00:26<00:00, 21225569.26it/s]\n"
          ],
          "name": "stderr"
        }
      ]
    },
    {
      "cell_type": "code",
      "metadata": {
        "id": "Bq9GNfsC3-zD",
        "colab_type": "code",
        "colab": {
          "base_uri": "https://localhost:8080/",
          "height": 590
        },
        "outputId": "66437b51-e0fc-4a82-971f-775664495845"
      },
      "source": [
        "model.features"
      ],
      "execution_count": 6,
      "outputs": [
        {
          "output_type": "execute_result",
          "data": {
            "text/plain": [
              "Sequential(\n",
              "  (0): Conv2d(3, 64, kernel_size=(3, 3), stride=(1, 1), padding=(1, 1))\n",
              "  (1): ReLU(inplace)\n",
              "  (2): Conv2d(64, 64, kernel_size=(3, 3), stride=(1, 1), padding=(1, 1))\n",
              "  (3): ReLU(inplace)\n",
              "  (4): MaxPool2d(kernel_size=2, stride=2, padding=0, dilation=1, ceil_mode=False)\n",
              "  (5): Conv2d(64, 128, kernel_size=(3, 3), stride=(1, 1), padding=(1, 1))\n",
              "  (6): ReLU(inplace)\n",
              "  (7): Conv2d(128, 128, kernel_size=(3, 3), stride=(1, 1), padding=(1, 1))\n",
              "  (8): ReLU(inplace)\n",
              "  (9): MaxPool2d(kernel_size=2, stride=2, padding=0, dilation=1, ceil_mode=False)\n",
              "  (10): Conv2d(128, 256, kernel_size=(3, 3), stride=(1, 1), padding=(1, 1))\n",
              "  (11): ReLU(inplace)\n",
              "  (12): Conv2d(256, 256, kernel_size=(3, 3), stride=(1, 1), padding=(1, 1))\n",
              "  (13): ReLU(inplace)\n",
              "  (14): Conv2d(256, 256, kernel_size=(3, 3), stride=(1, 1), padding=(1, 1))\n",
              "  (15): ReLU(inplace)\n",
              "  (16): MaxPool2d(kernel_size=2, stride=2, padding=0, dilation=1, ceil_mode=False)\n",
              "  (17): Conv2d(256, 512, kernel_size=(3, 3), stride=(1, 1), padding=(1, 1))\n",
              "  (18): ReLU(inplace)\n",
              "  (19): Conv2d(512, 512, kernel_size=(3, 3), stride=(1, 1), padding=(1, 1))\n",
              "  (20): ReLU(inplace)\n",
              "  (21): Conv2d(512, 512, kernel_size=(3, 3), stride=(1, 1), padding=(1, 1))\n",
              "  (22): ReLU(inplace)\n",
              "  (23): MaxPool2d(kernel_size=2, stride=2, padding=0, dilation=1, ceil_mode=False)\n",
              "  (24): Conv2d(512, 512, kernel_size=(3, 3), stride=(1, 1), padding=(1, 1))\n",
              "  (25): ReLU(inplace)\n",
              "  (26): Conv2d(512, 512, kernel_size=(3, 3), stride=(1, 1), padding=(1, 1))\n",
              "  (27): ReLU(inplace)\n",
              "  (28): Conv2d(512, 512, kernel_size=(3, 3), stride=(1, 1), padding=(1, 1))\n",
              "  (29): ReLU(inplace)\n",
              "  (30): MaxPool2d(kernel_size=2, stride=2, padding=0, dilation=1, ceil_mode=False)\n",
              ")"
            ]
          },
          "metadata": {
            "tags": []
          },
          "execution_count": 6
        }
      ]
    },
    {
      "cell_type": "code",
      "metadata": {
        "id": "GQmpRWNF3-jc",
        "colab_type": "code",
        "colab": {
          "base_uri": "https://localhost:8080/",
          "height": 173
        },
        "outputId": "b7203447-1dda-48de-a773-2dc57396b8c5"
      },
      "source": [
        "model.classifier"
      ],
      "execution_count": 7,
      "outputs": [
        {
          "output_type": "execute_result",
          "data": {
            "text/plain": [
              "Sequential(\n",
              "  (0): Linear(in_features=25088, out_features=4096, bias=True)\n",
              "  (1): ReLU(inplace)\n",
              "  (2): Dropout(p=0.5)\n",
              "  (3): Linear(in_features=4096, out_features=4096, bias=True)\n",
              "  (4): ReLU(inplace)\n",
              "  (5): Dropout(p=0.5)\n",
              "  (6): Linear(in_features=4096, out_features=1000, bias=True)\n",
              ")"
            ]
          },
          "metadata": {
            "tags": []
          },
          "execution_count": 7
        }
      ]
    },
    {
      "cell_type": "code",
      "metadata": {
        "id": "zntNd1RP3-g8",
        "colab_type": "code",
        "colab": {}
      },
      "source": [
        "for param in model.parameters():\n",
        "  param.requires_grad = False"
      ],
      "execution_count": 0,
      "outputs": []
    },
    {
      "cell_type": "code",
      "metadata": {
        "id": "FREl9ASC3-er",
        "colab_type": "code",
        "colab": {}
      },
      "source": [
        "model.classifier[-1] = nn.Sequential(\n",
        "                       nn.Linear(in_features=4096, out_features=10),\n",
        "                       nn.LogSoftmax(dim=1)\n",
        "                        )"
      ],
      "execution_count": 0,
      "outputs": []
    },
    {
      "cell_type": "code",
      "metadata": {
        "id": "7PoaL3Ad3-cL",
        "colab_type": "code",
        "colab": {
          "base_uri": "https://localhost:8080/",
          "height": 225
        },
        "outputId": "e9f359ac-cfd8-48e7-90bc-9cba663b9737"
      },
      "source": [
        "model.classifier"
      ],
      "execution_count": 10,
      "outputs": [
        {
          "output_type": "execute_result",
          "data": {
            "text/plain": [
              "Sequential(\n",
              "  (0): Linear(in_features=25088, out_features=4096, bias=True)\n",
              "  (1): ReLU(inplace)\n",
              "  (2): Dropout(p=0.5)\n",
              "  (3): Linear(in_features=4096, out_features=4096, bias=True)\n",
              "  (4): ReLU(inplace)\n",
              "  (5): Dropout(p=0.5)\n",
              "  (6): Sequential(\n",
              "    (0): Linear(in_features=4096, out_features=10, bias=True)\n",
              "    (1): LogSoftmax()\n",
              "  )\n",
              ")"
            ]
          },
          "metadata": {
            "tags": []
          },
          "execution_count": 10
        }
      ]
    },
    {
      "cell_type": "code",
      "metadata": {
        "id": "qe-pEtmc3-Zj",
        "colab_type": "code",
        "colab": {}
      },
      "source": [
        "criterion = nn.NLLLoss()"
      ],
      "execution_count": 0,
      "outputs": []
    },
    {
      "cell_type": "code",
      "metadata": {
        "id": "SVJwYRtt3-W0",
        "colab_type": "code",
        "colab": {}
      },
      "source": [
        ""
      ],
      "execution_count": 0,
      "outputs": []
    },
    {
      "cell_type": "code",
      "metadata": {
        "id": "9f_1LPEC4uXu",
        "colab_type": "code",
        "colab": {}
      },
      "source": [
        ""
      ],
      "execution_count": 0,
      "outputs": []
    },
    {
      "cell_type": "code",
      "metadata": {
        "id": "jFMdAmPE4uVO",
        "colab_type": "code",
        "colab": {}
      },
      "source": [
        ""
      ],
      "execution_count": 0,
      "outputs": []
    },
    {
      "cell_type": "code",
      "metadata": {
        "id": "Vvl5u4ma3-Tu",
        "colab_type": "code",
        "colab": {}
      },
      "source": [
        ""
      ],
      "execution_count": 0,
      "outputs": []
    },
    {
      "cell_type": "markdown",
      "metadata": {
        "id": "3KnVo-JymOUh",
        "colab_type": "text"
      },
      "source": [
        "## Training the Fixed Feature Extractor"
      ]
    },
    {
      "cell_type": "code",
      "metadata": {
        "id": "dk9-eEGnxW77",
        "colab_type": "code",
        "colab": {}
      },
      "source": [
        "from torch.optim import Adam\n",
        "\n",
        "model = model.to(device)\n",
        "optimizer = Adam(model.parameters())"
      ],
      "execution_count": 0,
      "outputs": []
    },
    {
      "cell_type": "code",
      "metadata": {
        "id": "IVMXEGau5Caf",
        "colab_type": "code",
        "colab": {}
      },
      "source": [
        ""
      ],
      "execution_count": 0,
      "outputs": []
    },
    {
      "cell_type": "code",
      "metadata": {
        "id": "s5I7_5I7xawY",
        "colab_type": "code",
        "colab": {
          "base_uri": "https://localhost:8080/",
          "height": 1000
        },
        "outputId": "a590fe5c-a75a-4e21-ff3e-8c5687aafd7e"
      },
      "source": [
        "num_epochs = 1\n",
        "batch_loss = 0\n",
        "cum_epoch_loss = 0\n",
        "\n",
        "for e in range(num_epochs):\n",
        "  cum_epoch_loss = 0\n",
        "  \n",
        "  for batch, (images, labels) in enumerate(trainloader,1):\n",
        "    images = images.to(device)\n",
        "    labels = labels.to(device)\n",
        "\n",
        "    optimizer.zero_grad()\n",
        "    logps = model(images)\n",
        "    loss = criterion(logps, labels)\n",
        "    loss.backward()\n",
        "    optimizer.step()\n",
        "    \n",
        "    batch_loss += loss.item()\n",
        "    print(f'Epoch({e}/{num_epochs} : Batch number({batch}/{len(trainloader)})  Batch loss : {loss.item()}')\n",
        "    \n",
        "  print(f'Training loss : {batch_loss/len(trainloader)}')  \n",
        "    "
      ],
      "execution_count": 13,
      "outputs": [
        {
          "output_type": "stream",
          "text": [
            "Epoch(0/1 : Batch number(1/782)  Batch loss : 2.330793857574463\n",
            "Epoch(0/1 : Batch number(2/782)  Batch loss : 2.1873085498809814\n",
            "Epoch(0/1 : Batch number(3/782)  Batch loss : 2.0241336822509766\n",
            "Epoch(0/1 : Batch number(4/782)  Batch loss : 2.117915153503418\n",
            "Epoch(0/1 : Batch number(5/782)  Batch loss : 1.7839388847351074\n",
            "Epoch(0/1 : Batch number(6/782)  Batch loss : 1.7197849750518799\n",
            "Epoch(0/1 : Batch number(7/782)  Batch loss : 1.4781361818313599\n",
            "Epoch(0/1 : Batch number(8/782)  Batch loss : 1.5097005367279053\n",
            "Epoch(0/1 : Batch number(9/782)  Batch loss : 1.3737859725952148\n",
            "Epoch(0/1 : Batch number(10/782)  Batch loss : 1.2858225107192993\n",
            "Epoch(0/1 : Batch number(11/782)  Batch loss : 1.1961519718170166\n",
            "Epoch(0/1 : Batch number(12/782)  Batch loss : 1.2627297639846802\n",
            "Epoch(0/1 : Batch number(13/782)  Batch loss : 1.0433865785598755\n",
            "Epoch(0/1 : Batch number(14/782)  Batch loss : 1.157762050628662\n",
            "Epoch(0/1 : Batch number(15/782)  Batch loss : 1.143516182899475\n",
            "Epoch(0/1 : Batch number(16/782)  Batch loss : 1.173277497291565\n",
            "Epoch(0/1 : Batch number(17/782)  Batch loss : 0.9265273213386536\n",
            "Epoch(0/1 : Batch number(18/782)  Batch loss : 1.0160858631134033\n",
            "Epoch(0/1 : Batch number(19/782)  Batch loss : 0.7355263233184814\n",
            "Epoch(0/1 : Batch number(20/782)  Batch loss : 0.8364805579185486\n",
            "Epoch(0/1 : Batch number(21/782)  Batch loss : 1.0696866512298584\n",
            "Epoch(0/1 : Batch number(22/782)  Batch loss : 0.9861234426498413\n",
            "Epoch(0/1 : Batch number(23/782)  Batch loss : 0.6519646644592285\n",
            "Epoch(0/1 : Batch number(24/782)  Batch loss : 0.7516680359840393\n",
            "Epoch(0/1 : Batch number(25/782)  Batch loss : 0.9761675596237183\n",
            "Epoch(0/1 : Batch number(26/782)  Batch loss : 0.8610056042671204\n",
            "Epoch(0/1 : Batch number(27/782)  Batch loss : 0.7925193905830383\n",
            "Epoch(0/1 : Batch number(28/782)  Batch loss : 0.8034343719482422\n",
            "Epoch(0/1 : Batch number(29/782)  Batch loss : 0.6840057373046875\n",
            "Epoch(0/1 : Batch number(30/782)  Batch loss : 0.7157379388809204\n",
            "Epoch(0/1 : Batch number(31/782)  Batch loss : 1.050800085067749\n",
            "Epoch(0/1 : Batch number(32/782)  Batch loss : 0.8375490307807922\n",
            "Epoch(0/1 : Batch number(33/782)  Batch loss : 0.5041622519493103\n",
            "Epoch(0/1 : Batch number(34/782)  Batch loss : 0.8423745036125183\n",
            "Epoch(0/1 : Batch number(35/782)  Batch loss : 0.7471319437026978\n",
            "Epoch(0/1 : Batch number(36/782)  Batch loss : 0.8000367879867554\n",
            "Epoch(0/1 : Batch number(37/782)  Batch loss : 0.5254005193710327\n",
            "Epoch(0/1 : Batch number(38/782)  Batch loss : 0.6387420296669006\n",
            "Epoch(0/1 : Batch number(39/782)  Batch loss : 0.7517688870429993\n",
            "Epoch(0/1 : Batch number(40/782)  Batch loss : 0.6613348126411438\n",
            "Epoch(0/1 : Batch number(41/782)  Batch loss : 0.9319687485694885\n",
            "Epoch(0/1 : Batch number(42/782)  Batch loss : 0.6779449582099915\n",
            "Epoch(0/1 : Batch number(43/782)  Batch loss : 0.7254332304000854\n",
            "Epoch(0/1 : Batch number(44/782)  Batch loss : 0.7334533333778381\n",
            "Epoch(0/1 : Batch number(45/782)  Batch loss : 0.7238757014274597\n",
            "Epoch(0/1 : Batch number(46/782)  Batch loss : 0.8280293941497803\n",
            "Epoch(0/1 : Batch number(47/782)  Batch loss : 0.7601490616798401\n",
            "Epoch(0/1 : Batch number(48/782)  Batch loss : 0.9079951047897339\n",
            "Epoch(0/1 : Batch number(49/782)  Batch loss : 0.8672821521759033\n",
            "Epoch(0/1 : Batch number(50/782)  Batch loss : 0.6199359893798828\n",
            "Epoch(0/1 : Batch number(51/782)  Batch loss : 0.842512309551239\n",
            "Epoch(0/1 : Batch number(52/782)  Batch loss : 0.6924899220466614\n",
            "Epoch(0/1 : Batch number(53/782)  Batch loss : 0.9972672462463379\n",
            "Epoch(0/1 : Batch number(54/782)  Batch loss : 0.812654972076416\n",
            "Epoch(0/1 : Batch number(55/782)  Batch loss : 0.9193117618560791\n",
            "Epoch(0/1 : Batch number(56/782)  Batch loss : 0.5114026665687561\n",
            "Epoch(0/1 : Batch number(57/782)  Batch loss : 1.0607956647872925\n",
            "Epoch(0/1 : Batch number(58/782)  Batch loss : 0.841284990310669\n",
            "Epoch(0/1 : Batch number(59/782)  Batch loss : 0.6311120986938477\n",
            "Epoch(0/1 : Batch number(60/782)  Batch loss : 0.7484427094459534\n",
            "Epoch(0/1 : Batch number(61/782)  Batch loss : 0.5448639988899231\n",
            "Epoch(0/1 : Batch number(62/782)  Batch loss : 0.6111004948616028\n",
            "Epoch(0/1 : Batch number(63/782)  Batch loss : 0.549351155757904\n",
            "Epoch(0/1 : Batch number(64/782)  Batch loss : 0.7474080324172974\n",
            "Epoch(0/1 : Batch number(65/782)  Batch loss : 0.793530285358429\n",
            "Epoch(0/1 : Batch number(66/782)  Batch loss : 0.8479316830635071\n",
            "Epoch(0/1 : Batch number(67/782)  Batch loss : 0.8047091960906982\n",
            "Epoch(0/1 : Batch number(68/782)  Batch loss : 0.5329869985580444\n",
            "Epoch(0/1 : Batch number(69/782)  Batch loss : 0.7280418276786804\n",
            "Epoch(0/1 : Batch number(70/782)  Batch loss : 0.6339029669761658\n",
            "Epoch(0/1 : Batch number(71/782)  Batch loss : 0.6289817690849304\n",
            "Epoch(0/1 : Batch number(72/782)  Batch loss : 0.48308485746383667\n",
            "Epoch(0/1 : Batch number(73/782)  Batch loss : 0.6889511346817017\n",
            "Epoch(0/1 : Batch number(74/782)  Batch loss : 0.6474937796592712\n",
            "Epoch(0/1 : Batch number(75/782)  Batch loss : 0.7478997707366943\n",
            "Epoch(0/1 : Batch number(76/782)  Batch loss : 0.6456102728843689\n",
            "Epoch(0/1 : Batch number(77/782)  Batch loss : 0.7580498456954956\n",
            "Epoch(0/1 : Batch number(78/782)  Batch loss : 0.8121612071990967\n",
            "Epoch(0/1 : Batch number(79/782)  Batch loss : 0.7283058166503906\n",
            "Epoch(0/1 : Batch number(80/782)  Batch loss : 0.7523382902145386\n",
            "Epoch(0/1 : Batch number(81/782)  Batch loss : 0.6245692372322083\n",
            "Epoch(0/1 : Batch number(82/782)  Batch loss : 0.6063784956932068\n",
            "Epoch(0/1 : Batch number(83/782)  Batch loss : 0.8045060634613037\n",
            "Epoch(0/1 : Batch number(84/782)  Batch loss : 0.5935498476028442\n",
            "Epoch(0/1 : Batch number(85/782)  Batch loss : 0.5540487766265869\n",
            "Epoch(0/1 : Batch number(86/782)  Batch loss : 0.5913609862327576\n",
            "Epoch(0/1 : Batch number(87/782)  Batch loss : 0.46725955605506897\n",
            "Epoch(0/1 : Batch number(88/782)  Batch loss : 0.6472147107124329\n",
            "Epoch(0/1 : Batch number(89/782)  Batch loss : 0.8104976415634155\n",
            "Epoch(0/1 : Batch number(90/782)  Batch loss : 0.635895848274231\n",
            "Epoch(0/1 : Batch number(91/782)  Batch loss : 0.8003630638122559\n",
            "Epoch(0/1 : Batch number(92/782)  Batch loss : 0.700205385684967\n",
            "Epoch(0/1 : Batch number(93/782)  Batch loss : 0.6684030294418335\n",
            "Epoch(0/1 : Batch number(94/782)  Batch loss : 0.7249242067337036\n",
            "Epoch(0/1 : Batch number(95/782)  Batch loss : 0.6559120416641235\n",
            "Epoch(0/1 : Batch number(96/782)  Batch loss : 0.644338071346283\n",
            "Epoch(0/1 : Batch number(97/782)  Batch loss : 0.7152078151702881\n",
            "Epoch(0/1 : Batch number(98/782)  Batch loss : 0.842635452747345\n",
            "Epoch(0/1 : Batch number(99/782)  Batch loss : 0.5321027040481567\n",
            "Epoch(0/1 : Batch number(100/782)  Batch loss : 0.608565628528595\n",
            "Epoch(0/1 : Batch number(101/782)  Batch loss : 0.6277041435241699\n",
            "Epoch(0/1 : Batch number(102/782)  Batch loss : 0.5871700048446655\n",
            "Epoch(0/1 : Batch number(103/782)  Batch loss : 0.6420841217041016\n",
            "Epoch(0/1 : Batch number(104/782)  Batch loss : 0.5438326001167297\n",
            "Epoch(0/1 : Batch number(105/782)  Batch loss : 0.6757501363754272\n",
            "Epoch(0/1 : Batch number(106/782)  Batch loss : 0.7350567579269409\n",
            "Epoch(0/1 : Batch number(107/782)  Batch loss : 0.5926449298858643\n",
            "Epoch(0/1 : Batch number(108/782)  Batch loss : 1.047590970993042\n",
            "Epoch(0/1 : Batch number(109/782)  Batch loss : 0.6983319520950317\n",
            "Epoch(0/1 : Batch number(110/782)  Batch loss : 0.36882615089416504\n",
            "Epoch(0/1 : Batch number(111/782)  Batch loss : 0.7249438762664795\n",
            "Epoch(0/1 : Batch number(112/782)  Batch loss : 0.701568603515625\n",
            "Epoch(0/1 : Batch number(113/782)  Batch loss : 0.6341166496276855\n",
            "Epoch(0/1 : Batch number(114/782)  Batch loss : 0.6812165379524231\n",
            "Epoch(0/1 : Batch number(115/782)  Batch loss : 0.4165986478328705\n",
            "Epoch(0/1 : Batch number(116/782)  Batch loss : 0.7430689334869385\n",
            "Epoch(0/1 : Batch number(117/782)  Batch loss : 0.7495089173316956\n",
            "Epoch(0/1 : Batch number(118/782)  Batch loss : 0.5965790152549744\n",
            "Epoch(0/1 : Batch number(119/782)  Batch loss : 0.46496787667274475\n",
            "Epoch(0/1 : Batch number(120/782)  Batch loss : 0.5830320119857788\n",
            "Epoch(0/1 : Batch number(121/782)  Batch loss : 0.8614025115966797\n",
            "Epoch(0/1 : Batch number(122/782)  Batch loss : 0.7885090112686157\n",
            "Epoch(0/1 : Batch number(123/782)  Batch loss : 0.5235733389854431\n",
            "Epoch(0/1 : Batch number(124/782)  Batch loss : 0.8527023792266846\n",
            "Epoch(0/1 : Batch number(125/782)  Batch loss : 0.5211002826690674\n",
            "Epoch(0/1 : Batch number(126/782)  Batch loss : 0.6751559972763062\n",
            "Epoch(0/1 : Batch number(127/782)  Batch loss : 0.714492917060852\n",
            "Epoch(0/1 : Batch number(128/782)  Batch loss : 0.7113751173019409\n",
            "Epoch(0/1 : Batch number(129/782)  Batch loss : 0.6058232188224792\n",
            "Epoch(0/1 : Batch number(130/782)  Batch loss : 0.8096463084220886\n",
            "Epoch(0/1 : Batch number(131/782)  Batch loss : 0.8473290801048279\n",
            "Epoch(0/1 : Batch number(132/782)  Batch loss : 0.6534109711647034\n",
            "Epoch(0/1 : Batch number(133/782)  Batch loss : 0.6494832038879395\n",
            "Epoch(0/1 : Batch number(134/782)  Batch loss : 0.7793076634407043\n",
            "Epoch(0/1 : Batch number(135/782)  Batch loss : 0.6907991766929626\n",
            "Epoch(0/1 : Batch number(136/782)  Batch loss : 0.4878116846084595\n",
            "Epoch(0/1 : Batch number(137/782)  Batch loss : 0.512295663356781\n",
            "Epoch(0/1 : Batch number(138/782)  Batch loss : 0.46878984570503235\n",
            "Epoch(0/1 : Batch number(139/782)  Batch loss : 0.7303876876831055\n",
            "Epoch(0/1 : Batch number(140/782)  Batch loss : 0.6902695298194885\n",
            "Epoch(0/1 : Batch number(141/782)  Batch loss : 0.48049405217170715\n",
            "Epoch(0/1 : Batch number(142/782)  Batch loss : 0.7337940335273743\n",
            "Epoch(0/1 : Batch number(143/782)  Batch loss : 0.6634593605995178\n",
            "Epoch(0/1 : Batch number(144/782)  Batch loss : 0.6086543798446655\n",
            "Epoch(0/1 : Batch number(145/782)  Batch loss : 0.6647945642471313\n",
            "Epoch(0/1 : Batch number(146/782)  Batch loss : 0.571482241153717\n",
            "Epoch(0/1 : Batch number(147/782)  Batch loss : 0.674073338508606\n",
            "Epoch(0/1 : Batch number(148/782)  Batch loss : 0.6870492100715637\n",
            "Epoch(0/1 : Batch number(149/782)  Batch loss : 0.679797351360321\n",
            "Epoch(0/1 : Batch number(150/782)  Batch loss : 0.5178161263465881\n",
            "Epoch(0/1 : Batch number(151/782)  Batch loss : 0.6503896713256836\n",
            "Epoch(0/1 : Batch number(152/782)  Batch loss : 0.7065846920013428\n",
            "Epoch(0/1 : Batch number(153/782)  Batch loss : 0.5779927372932434\n",
            "Epoch(0/1 : Batch number(154/782)  Batch loss : 0.5978446006774902\n",
            "Epoch(0/1 : Batch number(155/782)  Batch loss : 0.760371744632721\n",
            "Epoch(0/1 : Batch number(156/782)  Batch loss : 0.691394567489624\n",
            "Epoch(0/1 : Batch number(157/782)  Batch loss : 0.5634894967079163\n",
            "Epoch(0/1 : Batch number(158/782)  Batch loss : 0.683711588382721\n",
            "Epoch(0/1 : Batch number(159/782)  Batch loss : 0.9643206596374512\n",
            "Epoch(0/1 : Batch number(160/782)  Batch loss : 0.7388681769371033\n",
            "Epoch(0/1 : Batch number(161/782)  Batch loss : 0.8734205365180969\n",
            "Epoch(0/1 : Batch number(162/782)  Batch loss : 0.4656863212585449\n",
            "Epoch(0/1 : Batch number(163/782)  Batch loss : 0.714769721031189\n",
            "Epoch(0/1 : Batch number(164/782)  Batch loss : 0.6715765595436096\n",
            "Epoch(0/1 : Batch number(165/782)  Batch loss : 0.6148694753646851\n",
            "Epoch(0/1 : Batch number(166/782)  Batch loss : 0.5541582703590393\n",
            "Epoch(0/1 : Batch number(167/782)  Batch loss : 0.5477286577224731\n",
            "Epoch(0/1 : Batch number(168/782)  Batch loss : 0.7949323058128357\n",
            "Epoch(0/1 : Batch number(169/782)  Batch loss : 0.7240022420883179\n",
            "Epoch(0/1 : Batch number(170/782)  Batch loss : 0.49126970767974854\n",
            "Epoch(0/1 : Batch number(171/782)  Batch loss : 0.6915932297706604\n",
            "Epoch(0/1 : Batch number(172/782)  Batch loss : 0.5483778715133667\n",
            "Epoch(0/1 : Batch number(173/782)  Batch loss : 0.6076768636703491\n",
            "Epoch(0/1 : Batch number(174/782)  Batch loss : 0.4972567558288574\n",
            "Epoch(0/1 : Batch number(175/782)  Batch loss : 1.0557949542999268\n",
            "Epoch(0/1 : Batch number(176/782)  Batch loss : 0.6563848853111267\n",
            "Epoch(0/1 : Batch number(177/782)  Batch loss : 0.6892279386520386\n",
            "Epoch(0/1 : Batch number(178/782)  Batch loss : 0.560079038143158\n",
            "Epoch(0/1 : Batch number(179/782)  Batch loss : 0.4362715184688568\n",
            "Epoch(0/1 : Batch number(180/782)  Batch loss : 0.6270188093185425\n",
            "Epoch(0/1 : Batch number(181/782)  Batch loss : 0.6904661059379578\n",
            "Epoch(0/1 : Batch number(182/782)  Batch loss : 0.7594727277755737\n",
            "Epoch(0/1 : Batch number(183/782)  Batch loss : 0.8715769052505493\n",
            "Epoch(0/1 : Batch number(184/782)  Batch loss : 0.8728467226028442\n",
            "Epoch(0/1 : Batch number(185/782)  Batch loss : 0.6295440196990967\n",
            "Epoch(0/1 : Batch number(186/782)  Batch loss : 0.5252457857131958\n",
            "Epoch(0/1 : Batch number(187/782)  Batch loss : 0.7818827033042908\n",
            "Epoch(0/1 : Batch number(188/782)  Batch loss : 0.44155600666999817\n",
            "Epoch(0/1 : Batch number(189/782)  Batch loss : 0.46797236800193787\n",
            "Epoch(0/1 : Batch number(190/782)  Batch loss : 0.5660873055458069\n",
            "Epoch(0/1 : Batch number(191/782)  Batch loss : 0.6980172395706177\n",
            "Epoch(0/1 : Batch number(192/782)  Batch loss : 0.5853054523468018\n",
            "Epoch(0/1 : Batch number(193/782)  Batch loss : 0.5768301486968994\n",
            "Epoch(0/1 : Batch number(194/782)  Batch loss : 0.5079212188720703\n",
            "Epoch(0/1 : Batch number(195/782)  Batch loss : 0.8701289296150208\n",
            "Epoch(0/1 : Batch number(196/782)  Batch loss : 0.6136888265609741\n",
            "Epoch(0/1 : Batch number(197/782)  Batch loss : 0.6375972032546997\n",
            "Epoch(0/1 : Batch number(198/782)  Batch loss : 0.5093222260475159\n",
            "Epoch(0/1 : Batch number(199/782)  Batch loss : 0.6219639778137207\n",
            "Epoch(0/1 : Batch number(200/782)  Batch loss : 0.5496453046798706\n",
            "Epoch(0/1 : Batch number(201/782)  Batch loss : 0.45047155022621155\n",
            "Epoch(0/1 : Batch number(202/782)  Batch loss : 0.5892705321311951\n",
            "Epoch(0/1 : Batch number(203/782)  Batch loss : 0.48035717010498047\n",
            "Epoch(0/1 : Batch number(204/782)  Batch loss : 0.6556370258331299\n",
            "Epoch(0/1 : Batch number(205/782)  Batch loss : 0.6579542756080627\n",
            "Epoch(0/1 : Batch number(206/782)  Batch loss : 0.5383174419403076\n",
            "Epoch(0/1 : Batch number(207/782)  Batch loss : 0.7278759479522705\n",
            "Epoch(0/1 : Batch number(208/782)  Batch loss : 0.7381566166877747\n",
            "Epoch(0/1 : Batch number(209/782)  Batch loss : 0.476306676864624\n",
            "Epoch(0/1 : Batch number(210/782)  Batch loss : 0.7393015027046204\n",
            "Epoch(0/1 : Batch number(211/782)  Batch loss : 0.846320390701294\n",
            "Epoch(0/1 : Batch number(212/782)  Batch loss : 0.7511521577835083\n",
            "Epoch(0/1 : Batch number(213/782)  Batch loss : 0.5542739033699036\n",
            "Epoch(0/1 : Batch number(214/782)  Batch loss : 0.5906004905700684\n",
            "Epoch(0/1 : Batch number(215/782)  Batch loss : 0.623677134513855\n",
            "Epoch(0/1 : Batch number(216/782)  Batch loss : 0.5767260193824768\n",
            "Epoch(0/1 : Batch number(217/782)  Batch loss : 0.47866329550743103\n",
            "Epoch(0/1 : Batch number(218/782)  Batch loss : 0.5152864456176758\n",
            "Epoch(0/1 : Batch number(219/782)  Batch loss : 0.6628614664077759\n",
            "Epoch(0/1 : Batch number(220/782)  Batch loss : 0.5862031579017639\n",
            "Epoch(0/1 : Batch number(221/782)  Batch loss : 0.793725311756134\n",
            "Epoch(0/1 : Batch number(222/782)  Batch loss : 0.5672879219055176\n",
            "Epoch(0/1 : Batch number(223/782)  Batch loss : 0.7558722496032715\n",
            "Epoch(0/1 : Batch number(224/782)  Batch loss : 0.7278993129730225\n",
            "Epoch(0/1 : Batch number(225/782)  Batch loss : 0.37449559569358826\n",
            "Epoch(0/1 : Batch number(226/782)  Batch loss : 0.5361163020133972\n",
            "Epoch(0/1 : Batch number(227/782)  Batch loss : 0.6969351172447205\n",
            "Epoch(0/1 : Batch number(228/782)  Batch loss : 0.39584803581237793\n",
            "Epoch(0/1 : Batch number(229/782)  Batch loss : 0.5701286196708679\n",
            "Epoch(0/1 : Batch number(230/782)  Batch loss : 0.6387873888015747\n",
            "Epoch(0/1 : Batch number(231/782)  Batch loss : 0.5618623495101929\n",
            "Epoch(0/1 : Batch number(232/782)  Batch loss : 0.5219042897224426\n",
            "Epoch(0/1 : Batch number(233/782)  Batch loss : 0.43705928325653076\n",
            "Epoch(0/1 : Batch number(234/782)  Batch loss : 0.6987035870552063\n",
            "Epoch(0/1 : Batch number(235/782)  Batch loss : 0.6295217275619507\n",
            "Epoch(0/1 : Batch number(236/782)  Batch loss : 0.6736677885055542\n",
            "Epoch(0/1 : Batch number(237/782)  Batch loss : 0.7859625220298767\n",
            "Epoch(0/1 : Batch number(238/782)  Batch loss : 0.7673293948173523\n",
            "Epoch(0/1 : Batch number(239/782)  Batch loss : 0.6462976336479187\n",
            "Epoch(0/1 : Batch number(240/782)  Batch loss : 0.6106469631195068\n",
            "Epoch(0/1 : Batch number(241/782)  Batch loss : 0.6633485555648804\n",
            "Epoch(0/1 : Batch number(242/782)  Batch loss : 0.6577558517456055\n",
            "Epoch(0/1 : Batch number(243/782)  Batch loss : 0.5197632312774658\n",
            "Epoch(0/1 : Batch number(244/782)  Batch loss : 0.30274274945259094\n",
            "Epoch(0/1 : Batch number(245/782)  Batch loss : 0.5610641837120056\n",
            "Epoch(0/1 : Batch number(246/782)  Batch loss : 0.8298518061637878\n",
            "Epoch(0/1 : Batch number(247/782)  Batch loss : 0.7118943929672241\n",
            "Epoch(0/1 : Batch number(248/782)  Batch loss : 0.577462375164032\n",
            "Epoch(0/1 : Batch number(249/782)  Batch loss : 0.6132590174674988\n",
            "Epoch(0/1 : Batch number(250/782)  Batch loss : 0.7618499398231506\n",
            "Epoch(0/1 : Batch number(251/782)  Batch loss : 0.5201215744018555\n",
            "Epoch(0/1 : Batch number(252/782)  Batch loss : 0.4164383113384247\n",
            "Epoch(0/1 : Batch number(253/782)  Batch loss : 0.8030038475990295\n",
            "Epoch(0/1 : Batch number(254/782)  Batch loss : 0.6989195346832275\n",
            "Epoch(0/1 : Batch number(255/782)  Batch loss : 0.5427074432373047\n",
            "Epoch(0/1 : Batch number(256/782)  Batch loss : 0.6625436544418335\n",
            "Epoch(0/1 : Batch number(257/782)  Batch loss : 0.7037017345428467\n",
            "Epoch(0/1 : Batch number(258/782)  Batch loss : 0.5535241961479187\n",
            "Epoch(0/1 : Batch number(259/782)  Batch loss : 0.42509007453918457\n",
            "Epoch(0/1 : Batch number(260/782)  Batch loss : 0.6223211288452148\n",
            "Epoch(0/1 : Batch number(261/782)  Batch loss : 0.5271254777908325\n",
            "Epoch(0/1 : Batch number(262/782)  Batch loss : 0.7568184733390808\n",
            "Epoch(0/1 : Batch number(263/782)  Batch loss : 0.6762040853500366\n",
            "Epoch(0/1 : Batch number(264/782)  Batch loss : 0.6200490593910217\n",
            "Epoch(0/1 : Batch number(265/782)  Batch loss : 0.5485925078392029\n",
            "Epoch(0/1 : Batch number(266/782)  Batch loss : 0.6781123876571655\n",
            "Epoch(0/1 : Batch number(267/782)  Batch loss : 0.6053720712661743\n",
            "Epoch(0/1 : Batch number(268/782)  Batch loss : 0.6193042397499084\n",
            "Epoch(0/1 : Batch number(269/782)  Batch loss : 0.5825338363647461\n",
            "Epoch(0/1 : Batch number(270/782)  Batch loss : 0.432870477437973\n",
            "Epoch(0/1 : Batch number(271/782)  Batch loss : 0.6450217366218567\n",
            "Epoch(0/1 : Batch number(272/782)  Batch loss : 0.598626434803009\n",
            "Epoch(0/1 : Batch number(273/782)  Batch loss : 0.590921938419342\n",
            "Epoch(0/1 : Batch number(274/782)  Batch loss : 0.5080010294914246\n",
            "Epoch(0/1 : Batch number(275/782)  Batch loss : 0.709791898727417\n",
            "Epoch(0/1 : Batch number(276/782)  Batch loss : 0.5616183876991272\n",
            "Epoch(0/1 : Batch number(277/782)  Batch loss : 0.653270959854126\n",
            "Epoch(0/1 : Batch number(278/782)  Batch loss : 0.6936269998550415\n",
            "Epoch(0/1 : Batch number(279/782)  Batch loss : 0.49417057633399963\n",
            "Epoch(0/1 : Batch number(280/782)  Batch loss : 0.5628443956375122\n",
            "Epoch(0/1 : Batch number(281/782)  Batch loss : 0.5568986535072327\n",
            "Epoch(0/1 : Batch number(282/782)  Batch loss : 0.5603930950164795\n",
            "Epoch(0/1 : Batch number(283/782)  Batch loss : 0.6044110655784607\n",
            "Epoch(0/1 : Batch number(284/782)  Batch loss : 0.45012274384498596\n",
            "Epoch(0/1 : Batch number(285/782)  Batch loss : 0.7207657694816589\n",
            "Epoch(0/1 : Batch number(286/782)  Batch loss : 0.5171854496002197\n",
            "Epoch(0/1 : Batch number(287/782)  Batch loss : 0.5293581485748291\n",
            "Epoch(0/1 : Batch number(288/782)  Batch loss : 0.5608763694763184\n",
            "Epoch(0/1 : Batch number(289/782)  Batch loss : 0.5333645939826965\n",
            "Epoch(0/1 : Batch number(290/782)  Batch loss : 1.0496633052825928\n",
            "Epoch(0/1 : Batch number(291/782)  Batch loss : 0.5920077562332153\n",
            "Epoch(0/1 : Batch number(292/782)  Batch loss : 0.7554864883422852\n",
            "Epoch(0/1 : Batch number(293/782)  Batch loss : 0.5857807993888855\n",
            "Epoch(0/1 : Batch number(294/782)  Batch loss : 0.4769180715084076\n",
            "Epoch(0/1 : Batch number(295/782)  Batch loss : 0.8379046320915222\n",
            "Epoch(0/1 : Batch number(296/782)  Batch loss : 0.6443600058555603\n",
            "Epoch(0/1 : Batch number(297/782)  Batch loss : 0.5683490633964539\n",
            "Epoch(0/1 : Batch number(298/782)  Batch loss : 0.8911489248275757\n",
            "Epoch(0/1 : Batch number(299/782)  Batch loss : 0.6582480072975159\n",
            "Epoch(0/1 : Batch number(300/782)  Batch loss : 0.5282479524612427\n",
            "Epoch(0/1 : Batch number(301/782)  Batch loss : 0.7102647423744202\n",
            "Epoch(0/1 : Batch number(302/782)  Batch loss : 0.587661623954773\n",
            "Epoch(0/1 : Batch number(303/782)  Batch loss : 0.48721033334732056\n",
            "Epoch(0/1 : Batch number(304/782)  Batch loss : 0.45130693912506104\n",
            "Epoch(0/1 : Batch number(305/782)  Batch loss : 0.492161363363266\n",
            "Epoch(0/1 : Batch number(306/782)  Batch loss : 0.9619402289390564\n",
            "Epoch(0/1 : Batch number(307/782)  Batch loss : 0.5066744089126587\n",
            "Epoch(0/1 : Batch number(308/782)  Batch loss : 0.5236842632293701\n",
            "Epoch(0/1 : Batch number(309/782)  Batch loss : 0.6561899781227112\n",
            "Epoch(0/1 : Batch number(310/782)  Batch loss : 0.6179954409599304\n",
            "Epoch(0/1 : Batch number(311/782)  Batch loss : 0.7473019957542419\n",
            "Epoch(0/1 : Batch number(312/782)  Batch loss : 0.7363735437393188\n",
            "Epoch(0/1 : Batch number(313/782)  Batch loss : 0.6551838517189026\n",
            "Epoch(0/1 : Batch number(314/782)  Batch loss : 0.4669477045536041\n",
            "Epoch(0/1 : Batch number(315/782)  Batch loss : 0.6099780797958374\n",
            "Epoch(0/1 : Batch number(316/782)  Batch loss : 0.3513202667236328\n",
            "Epoch(0/1 : Batch number(317/782)  Batch loss : 0.6058424115180969\n",
            "Epoch(0/1 : Batch number(318/782)  Batch loss : 0.5194603204727173\n",
            "Epoch(0/1 : Batch number(319/782)  Batch loss : 0.5921967625617981\n",
            "Epoch(0/1 : Batch number(320/782)  Batch loss : 0.4115547835826874\n",
            "Epoch(0/1 : Batch number(321/782)  Batch loss : 0.5060006380081177\n",
            "Epoch(0/1 : Batch number(322/782)  Batch loss : 0.6119292378425598\n",
            "Epoch(0/1 : Batch number(323/782)  Batch loss : 0.4280763864517212\n",
            "Epoch(0/1 : Batch number(324/782)  Batch loss : 0.7099247574806213\n",
            "Epoch(0/1 : Batch number(325/782)  Batch loss : 0.6293931007385254\n",
            "Epoch(0/1 : Batch number(326/782)  Batch loss : 0.568019449710846\n",
            "Epoch(0/1 : Batch number(327/782)  Batch loss : 0.5743095874786377\n",
            "Epoch(0/1 : Batch number(328/782)  Batch loss : 0.5477792620658875\n",
            "Epoch(0/1 : Batch number(329/782)  Batch loss : 0.6365268230438232\n",
            "Epoch(0/1 : Batch number(330/782)  Batch loss : 0.5983854532241821\n",
            "Epoch(0/1 : Batch number(331/782)  Batch loss : 0.7844035625457764\n",
            "Epoch(0/1 : Batch number(332/782)  Batch loss : 0.6690807938575745\n",
            "Epoch(0/1 : Batch number(333/782)  Batch loss : 0.5971134305000305\n",
            "Epoch(0/1 : Batch number(334/782)  Batch loss : 0.8957507610321045\n",
            "Epoch(0/1 : Batch number(335/782)  Batch loss : 0.4145786762237549\n",
            "Epoch(0/1 : Batch number(336/782)  Batch loss : 0.8783940076828003\n",
            "Epoch(0/1 : Batch number(337/782)  Batch loss : 0.6286337971687317\n",
            "Epoch(0/1 : Batch number(338/782)  Batch loss : 0.5336377620697021\n",
            "Epoch(0/1 : Batch number(339/782)  Batch loss : 0.8281564116477966\n",
            "Epoch(0/1 : Batch number(340/782)  Batch loss : 0.5445436835289001\n",
            "Epoch(0/1 : Batch number(341/782)  Batch loss : 0.8564034104347229\n",
            "Epoch(0/1 : Batch number(342/782)  Batch loss : 0.7434616684913635\n",
            "Epoch(0/1 : Batch number(343/782)  Batch loss : 0.6082101464271545\n",
            "Epoch(0/1 : Batch number(344/782)  Batch loss : 0.4582027494907379\n",
            "Epoch(0/1 : Batch number(345/782)  Batch loss : 0.6612533926963806\n",
            "Epoch(0/1 : Batch number(346/782)  Batch loss : 0.6309096813201904\n",
            "Epoch(0/1 : Batch number(347/782)  Batch loss : 0.5814685225486755\n",
            "Epoch(0/1 : Batch number(348/782)  Batch loss : 0.7075403332710266\n",
            "Epoch(0/1 : Batch number(349/782)  Batch loss : 0.46361351013183594\n",
            "Epoch(0/1 : Batch number(350/782)  Batch loss : 0.711020827293396\n",
            "Epoch(0/1 : Batch number(351/782)  Batch loss : 0.8432652950286865\n",
            "Epoch(0/1 : Batch number(352/782)  Batch loss : 0.7358768582344055\n",
            "Epoch(0/1 : Batch number(353/782)  Batch loss : 0.7083295583724976\n",
            "Epoch(0/1 : Batch number(354/782)  Batch loss : 0.5307244658470154\n",
            "Epoch(0/1 : Batch number(355/782)  Batch loss : 1.054983139038086\n",
            "Epoch(0/1 : Batch number(356/782)  Batch loss : 0.5668140649795532\n",
            "Epoch(0/1 : Batch number(357/782)  Batch loss : 0.5282201766967773\n",
            "Epoch(0/1 : Batch number(358/782)  Batch loss : 0.5781500935554504\n",
            "Epoch(0/1 : Batch number(359/782)  Batch loss : 0.6288172602653503\n",
            "Epoch(0/1 : Batch number(360/782)  Batch loss : 0.9376906156539917\n",
            "Epoch(0/1 : Batch number(361/782)  Batch loss : 0.5950481295585632\n",
            "Epoch(0/1 : Batch number(362/782)  Batch loss : 0.7014989852905273\n",
            "Epoch(0/1 : Batch number(363/782)  Batch loss : 0.5844824314117432\n",
            "Epoch(0/1 : Batch number(364/782)  Batch loss : 0.603500485420227\n",
            "Epoch(0/1 : Batch number(365/782)  Batch loss : 0.7213931679725647\n",
            "Epoch(0/1 : Batch number(366/782)  Batch loss : 0.4148558974266052\n",
            "Epoch(0/1 : Batch number(367/782)  Batch loss : 0.6705209612846375\n",
            "Epoch(0/1 : Batch number(368/782)  Batch loss : 0.5151530504226685\n",
            "Epoch(0/1 : Batch number(369/782)  Batch loss : 0.7036138772964478\n",
            "Epoch(0/1 : Batch number(370/782)  Batch loss : 0.7778614163398743\n",
            "Epoch(0/1 : Batch number(371/782)  Batch loss : 0.8516289591789246\n",
            "Epoch(0/1 : Batch number(372/782)  Batch loss : 0.6756638288497925\n",
            "Epoch(0/1 : Batch number(373/782)  Batch loss : 0.5735394358634949\n",
            "Epoch(0/1 : Batch number(374/782)  Batch loss : 0.6181339025497437\n",
            "Epoch(0/1 : Batch number(375/782)  Batch loss : 0.6503061652183533\n",
            "Epoch(0/1 : Batch number(376/782)  Batch loss : 0.5540677309036255\n",
            "Epoch(0/1 : Batch number(377/782)  Batch loss : 0.8569175601005554\n",
            "Epoch(0/1 : Batch number(378/782)  Batch loss : 0.6344922184944153\n",
            "Epoch(0/1 : Batch number(379/782)  Batch loss : 0.6893643736839294\n",
            "Epoch(0/1 : Batch number(380/782)  Batch loss : 0.2902328670024872\n",
            "Epoch(0/1 : Batch number(381/782)  Batch loss : 0.42344191670417786\n",
            "Epoch(0/1 : Batch number(382/782)  Batch loss : 0.6378957033157349\n",
            "Epoch(0/1 : Batch number(383/782)  Batch loss : 0.4131886959075928\n",
            "Epoch(0/1 : Batch number(384/782)  Batch loss : 0.6166226267814636\n",
            "Epoch(0/1 : Batch number(385/782)  Batch loss : 0.7035770416259766\n",
            "Epoch(0/1 : Batch number(386/782)  Batch loss : 0.6241316795349121\n",
            "Epoch(0/1 : Batch number(387/782)  Batch loss : 0.5657775402069092\n",
            "Epoch(0/1 : Batch number(388/782)  Batch loss : 0.6131946444511414\n",
            "Epoch(0/1 : Batch number(389/782)  Batch loss : 0.6902673840522766\n",
            "Epoch(0/1 : Batch number(390/782)  Batch loss : 0.5510678887367249\n",
            "Epoch(0/1 : Batch number(391/782)  Batch loss : 0.6977007389068604\n",
            "Epoch(0/1 : Batch number(392/782)  Batch loss : 0.6748350262641907\n",
            "Epoch(0/1 : Batch number(393/782)  Batch loss : 0.6524862051010132\n",
            "Epoch(0/1 : Batch number(394/782)  Batch loss : 0.5190284252166748\n",
            "Epoch(0/1 : Batch number(395/782)  Batch loss : 0.4715874493122101\n",
            "Epoch(0/1 : Batch number(396/782)  Batch loss : 0.8407859802246094\n",
            "Epoch(0/1 : Batch number(397/782)  Batch loss : 0.5126786231994629\n",
            "Epoch(0/1 : Batch number(398/782)  Batch loss : 0.7290356755256653\n",
            "Epoch(0/1 : Batch number(399/782)  Batch loss : 0.7372162938117981\n",
            "Epoch(0/1 : Batch number(400/782)  Batch loss : 0.4755697548389435\n",
            "Epoch(0/1 : Batch number(401/782)  Batch loss : 0.5440533757209778\n",
            "Epoch(0/1 : Batch number(402/782)  Batch loss : 0.4794212281703949\n",
            "Epoch(0/1 : Batch number(403/782)  Batch loss : 0.7903443574905396\n",
            "Epoch(0/1 : Batch number(404/782)  Batch loss : 0.46525654196739197\n",
            "Epoch(0/1 : Batch number(405/782)  Batch loss : 0.5800440907478333\n",
            "Epoch(0/1 : Batch number(406/782)  Batch loss : 0.6300410032272339\n",
            "Epoch(0/1 : Batch number(407/782)  Batch loss : 0.784796953201294\n",
            "Epoch(0/1 : Batch number(408/782)  Batch loss : 0.604953944683075\n",
            "Epoch(0/1 : Batch number(409/782)  Batch loss : 0.7009124159812927\n",
            "Epoch(0/1 : Batch number(410/782)  Batch loss : 0.5964676737785339\n",
            "Epoch(0/1 : Batch number(411/782)  Batch loss : 0.7254735827445984\n",
            "Epoch(0/1 : Batch number(412/782)  Batch loss : 0.5536493062973022\n",
            "Epoch(0/1 : Batch number(413/782)  Batch loss : 0.520598292350769\n",
            "Epoch(0/1 : Batch number(414/782)  Batch loss : 0.6859451532363892\n",
            "Epoch(0/1 : Batch number(415/782)  Batch loss : 0.5575013756752014\n",
            "Epoch(0/1 : Batch number(416/782)  Batch loss : 0.5282859206199646\n",
            "Epoch(0/1 : Batch number(417/782)  Batch loss : 0.362348735332489\n",
            "Epoch(0/1 : Batch number(418/782)  Batch loss : 0.5744515061378479\n",
            "Epoch(0/1 : Batch number(419/782)  Batch loss : 0.8292884826660156\n",
            "Epoch(0/1 : Batch number(420/782)  Batch loss : 0.5744581818580627\n",
            "Epoch(0/1 : Batch number(421/782)  Batch loss : 0.9491564631462097\n",
            "Epoch(0/1 : Batch number(422/782)  Batch loss : 0.5282398462295532\n",
            "Epoch(0/1 : Batch number(423/782)  Batch loss : 0.6681883931159973\n",
            "Epoch(0/1 : Batch number(424/782)  Batch loss : 0.6649166941642761\n",
            "Epoch(0/1 : Batch number(425/782)  Batch loss : 0.5721135139465332\n",
            "Epoch(0/1 : Batch number(426/782)  Batch loss : 0.4279382526874542\n",
            "Epoch(0/1 : Batch number(427/782)  Batch loss : 0.6301266551017761\n",
            "Epoch(0/1 : Batch number(428/782)  Batch loss : 0.5163031816482544\n",
            "Epoch(0/1 : Batch number(429/782)  Batch loss : 0.5194411277770996\n",
            "Epoch(0/1 : Batch number(430/782)  Batch loss : 0.6036227345466614\n",
            "Epoch(0/1 : Batch number(431/782)  Batch loss : 0.7079914808273315\n",
            "Epoch(0/1 : Batch number(432/782)  Batch loss : 0.4235490560531616\n",
            "Epoch(0/1 : Batch number(433/782)  Batch loss : 0.5611328482627869\n",
            "Epoch(0/1 : Batch number(434/782)  Batch loss : 0.7502000331878662\n",
            "Epoch(0/1 : Batch number(435/782)  Batch loss : 0.6441138982772827\n",
            "Epoch(0/1 : Batch number(436/782)  Batch loss : 0.7187212705612183\n",
            "Epoch(0/1 : Batch number(437/782)  Batch loss : 0.5759214162826538\n",
            "Epoch(0/1 : Batch number(438/782)  Batch loss : 0.6318538188934326\n",
            "Epoch(0/1 : Batch number(439/782)  Batch loss : 0.5471623539924622\n",
            "Epoch(0/1 : Batch number(440/782)  Batch loss : 0.3751169741153717\n",
            "Epoch(0/1 : Batch number(441/782)  Batch loss : 0.5459270477294922\n",
            "Epoch(0/1 : Batch number(442/782)  Batch loss : 0.5799605846405029\n",
            "Epoch(0/1 : Batch number(443/782)  Batch loss : 0.5765267014503479\n",
            "Epoch(0/1 : Batch number(444/782)  Batch loss : 0.7557468414306641\n",
            "Epoch(0/1 : Batch number(445/782)  Batch loss : 0.6289082169532776\n",
            "Epoch(0/1 : Batch number(446/782)  Batch loss : 0.6916482448577881\n",
            "Epoch(0/1 : Batch number(447/782)  Batch loss : 0.7266785502433777\n",
            "Epoch(0/1 : Batch number(448/782)  Batch loss : 0.294106125831604\n",
            "Epoch(0/1 : Batch number(449/782)  Batch loss : 0.520042896270752\n",
            "Epoch(0/1 : Batch number(450/782)  Batch loss : 0.5954595804214478\n",
            "Epoch(0/1 : Batch number(451/782)  Batch loss : 0.9300861358642578\n",
            "Epoch(0/1 : Batch number(452/782)  Batch loss : 0.46721580624580383\n",
            "Epoch(0/1 : Batch number(453/782)  Batch loss : 0.6788110733032227\n",
            "Epoch(0/1 : Batch number(454/782)  Batch loss : 0.563366174697876\n",
            "Epoch(0/1 : Batch number(455/782)  Batch loss : 0.5028119087219238\n",
            "Epoch(0/1 : Batch number(456/782)  Batch loss : 0.5058372616767883\n",
            "Epoch(0/1 : Batch number(457/782)  Batch loss : 0.8381832838058472\n",
            "Epoch(0/1 : Batch number(458/782)  Batch loss : 0.4977291226387024\n",
            "Epoch(0/1 : Batch number(459/782)  Batch loss : 0.6319935321807861\n",
            "Epoch(0/1 : Batch number(460/782)  Batch loss : 0.408193975687027\n",
            "Epoch(0/1 : Batch number(461/782)  Batch loss : 0.6386366486549377\n",
            "Epoch(0/1 : Batch number(462/782)  Batch loss : 0.63526850938797\n",
            "Epoch(0/1 : Batch number(463/782)  Batch loss : 0.733005940914154\n",
            "Epoch(0/1 : Batch number(464/782)  Batch loss : 0.5514549612998962\n",
            "Epoch(0/1 : Batch number(465/782)  Batch loss : 1.0366038084030151\n",
            "Epoch(0/1 : Batch number(466/782)  Batch loss : 0.525773823261261\n",
            "Epoch(0/1 : Batch number(467/782)  Batch loss : 0.4442558288574219\n",
            "Epoch(0/1 : Batch number(468/782)  Batch loss : 0.8476042747497559\n",
            "Epoch(0/1 : Batch number(469/782)  Batch loss : 0.6196925640106201\n",
            "Epoch(0/1 : Batch number(470/782)  Batch loss : 0.3736841082572937\n",
            "Epoch(0/1 : Batch number(471/782)  Batch loss : 0.5396828651428223\n",
            "Epoch(0/1 : Batch number(472/782)  Batch loss : 0.5975635051727295\n",
            "Epoch(0/1 : Batch number(473/782)  Batch loss : 0.6565909385681152\n",
            "Epoch(0/1 : Batch number(474/782)  Batch loss : 0.4521045684814453\n",
            "Epoch(0/1 : Batch number(475/782)  Batch loss : 0.6577907204627991\n",
            "Epoch(0/1 : Batch number(476/782)  Batch loss : 0.5005714297294617\n",
            "Epoch(0/1 : Batch number(477/782)  Batch loss : 0.6056393384933472\n",
            "Epoch(0/1 : Batch number(478/782)  Batch loss : 0.36951202154159546\n",
            "Epoch(0/1 : Batch number(479/782)  Batch loss : 0.7947844862937927\n",
            "Epoch(0/1 : Batch number(480/782)  Batch loss : 0.8368450999259949\n",
            "Epoch(0/1 : Batch number(481/782)  Batch loss : 0.6388330459594727\n",
            "Epoch(0/1 : Batch number(482/782)  Batch loss : 0.8492714762687683\n",
            "Epoch(0/1 : Batch number(483/782)  Batch loss : 0.6995792984962463\n",
            "Epoch(0/1 : Batch number(484/782)  Batch loss : 0.688976526260376\n",
            "Epoch(0/1 : Batch number(485/782)  Batch loss : 0.830888569355011\n",
            "Epoch(0/1 : Batch number(486/782)  Batch loss : 0.4569522738456726\n",
            "Epoch(0/1 : Batch number(487/782)  Batch loss : 0.55388343334198\n",
            "Epoch(0/1 : Batch number(488/782)  Batch loss : 0.6972283720970154\n",
            "Epoch(0/1 : Batch number(489/782)  Batch loss : 0.6467178463935852\n",
            "Epoch(0/1 : Batch number(490/782)  Batch loss : 0.5089784264564514\n",
            "Epoch(0/1 : Batch number(491/782)  Batch loss : 0.5816762447357178\n",
            "Epoch(0/1 : Batch number(492/782)  Batch loss : 0.7606564164161682\n",
            "Epoch(0/1 : Batch number(493/782)  Batch loss : 0.40860235691070557\n",
            "Epoch(0/1 : Batch number(494/782)  Batch loss : 0.7039786577224731\n",
            "Epoch(0/1 : Batch number(495/782)  Batch loss : 0.6550867557525635\n",
            "Epoch(0/1 : Batch number(496/782)  Batch loss : 0.5543010234832764\n",
            "Epoch(0/1 : Batch number(497/782)  Batch loss : 0.646278977394104\n",
            "Epoch(0/1 : Batch number(498/782)  Batch loss : 0.4353649914264679\n",
            "Epoch(0/1 : Batch number(499/782)  Batch loss : 0.49050018191337585\n",
            "Epoch(0/1 : Batch number(500/782)  Batch loss : 0.5682615041732788\n",
            "Epoch(0/1 : Batch number(501/782)  Batch loss : 0.5579744577407837\n",
            "Epoch(0/1 : Batch number(502/782)  Batch loss : 0.5434271097183228\n",
            "Epoch(0/1 : Batch number(503/782)  Batch loss : 0.5332862734794617\n",
            "Epoch(0/1 : Batch number(504/782)  Batch loss : 0.4906972646713257\n",
            "Epoch(0/1 : Batch number(505/782)  Batch loss : 0.7924613952636719\n",
            "Epoch(0/1 : Batch number(506/782)  Batch loss : 0.4625281095504761\n",
            "Epoch(0/1 : Batch number(507/782)  Batch loss : 0.7016466856002808\n",
            "Epoch(0/1 : Batch number(508/782)  Batch loss : 0.8105838298797607\n",
            "Epoch(0/1 : Batch number(509/782)  Batch loss : 0.5860750675201416\n",
            "Epoch(0/1 : Batch number(510/782)  Batch loss : 0.8326185345649719\n",
            "Epoch(0/1 : Batch number(511/782)  Batch loss : 0.8330733180046082\n",
            "Epoch(0/1 : Batch number(512/782)  Batch loss : 0.4182622730731964\n",
            "Epoch(0/1 : Batch number(513/782)  Batch loss : 0.6545575857162476\n",
            "Epoch(0/1 : Batch number(514/782)  Batch loss : 0.5525917410850525\n",
            "Epoch(0/1 : Batch number(515/782)  Batch loss : 0.4536694884300232\n",
            "Epoch(0/1 : Batch number(516/782)  Batch loss : 0.7587679028511047\n",
            "Epoch(0/1 : Batch number(517/782)  Batch loss : 0.8849424123764038\n",
            "Epoch(0/1 : Batch number(518/782)  Batch loss : 0.6578469276428223\n",
            "Epoch(0/1 : Batch number(519/782)  Batch loss : 0.44305527210235596\n",
            "Epoch(0/1 : Batch number(520/782)  Batch loss : 0.5972042083740234\n",
            "Epoch(0/1 : Batch number(521/782)  Batch loss : 0.8264314532279968\n",
            "Epoch(0/1 : Batch number(522/782)  Batch loss : 0.6436453461647034\n",
            "Epoch(0/1 : Batch number(523/782)  Batch loss : 0.5842955112457275\n",
            "Epoch(0/1 : Batch number(524/782)  Batch loss : 0.520292341709137\n",
            "Epoch(0/1 : Batch number(525/782)  Batch loss : 0.7575191259384155\n",
            "Epoch(0/1 : Batch number(526/782)  Batch loss : 0.7215399742126465\n",
            "Epoch(0/1 : Batch number(527/782)  Batch loss : 0.5380423069000244\n",
            "Epoch(0/1 : Batch number(528/782)  Batch loss : 0.6992185115814209\n",
            "Epoch(0/1 : Batch number(529/782)  Batch loss : 0.7930238842964172\n",
            "Epoch(0/1 : Batch number(530/782)  Batch loss : 0.6019221544265747\n",
            "Epoch(0/1 : Batch number(531/782)  Batch loss : 0.6685338020324707\n",
            "Epoch(0/1 : Batch number(532/782)  Batch loss : 0.6075537204742432\n",
            "Epoch(0/1 : Batch number(533/782)  Batch loss : 0.6300936341285706\n",
            "Epoch(0/1 : Batch number(534/782)  Batch loss : 0.6259037256240845\n",
            "Epoch(0/1 : Batch number(535/782)  Batch loss : 0.6653260588645935\n",
            "Epoch(0/1 : Batch number(536/782)  Batch loss : 0.7235167026519775\n",
            "Epoch(0/1 : Batch number(537/782)  Batch loss : 0.6899427771568298\n",
            "Epoch(0/1 : Batch number(538/782)  Batch loss : 0.4759780466556549\n",
            "Epoch(0/1 : Batch number(539/782)  Batch loss : 0.5852241516113281\n",
            "Epoch(0/1 : Batch number(540/782)  Batch loss : 0.5967927575111389\n",
            "Epoch(0/1 : Batch number(541/782)  Batch loss : 0.47346702218055725\n",
            "Epoch(0/1 : Batch number(542/782)  Batch loss : 0.6589300036430359\n",
            "Epoch(0/1 : Batch number(543/782)  Batch loss : 0.5584457516670227\n",
            "Epoch(0/1 : Batch number(544/782)  Batch loss : 0.6245594024658203\n",
            "Epoch(0/1 : Batch number(545/782)  Batch loss : 0.4548679292201996\n",
            "Epoch(0/1 : Batch number(546/782)  Batch loss : 0.8054589033126831\n",
            "Epoch(0/1 : Batch number(547/782)  Batch loss : 0.3978525698184967\n",
            "Epoch(0/1 : Batch number(548/782)  Batch loss : 0.581274151802063\n",
            "Epoch(0/1 : Batch number(549/782)  Batch loss : 0.547546923160553\n",
            "Epoch(0/1 : Batch number(550/782)  Batch loss : 0.4938414394855499\n",
            "Epoch(0/1 : Batch number(551/782)  Batch loss : 0.7166056036949158\n",
            "Epoch(0/1 : Batch number(552/782)  Batch loss : 0.5798400044441223\n",
            "Epoch(0/1 : Batch number(553/782)  Batch loss : 0.5776882767677307\n",
            "Epoch(0/1 : Batch number(554/782)  Batch loss : 0.6635632514953613\n",
            "Epoch(0/1 : Batch number(555/782)  Batch loss : 0.7655263543128967\n",
            "Epoch(0/1 : Batch number(556/782)  Batch loss : 0.6904401779174805\n",
            "Epoch(0/1 : Batch number(557/782)  Batch loss : 0.7153013944625854\n",
            "Epoch(0/1 : Batch number(558/782)  Batch loss : 0.46765267848968506\n",
            "Epoch(0/1 : Batch number(559/782)  Batch loss : 0.4742431342601776\n",
            "Epoch(0/1 : Batch number(560/782)  Batch loss : 0.6490808725357056\n",
            "Epoch(0/1 : Batch number(561/782)  Batch loss : 1.0203800201416016\n",
            "Epoch(0/1 : Batch number(562/782)  Batch loss : 0.6451589465141296\n",
            "Epoch(0/1 : Batch number(563/782)  Batch loss : 0.503101110458374\n",
            "Epoch(0/1 : Batch number(564/782)  Batch loss : 0.7582557201385498\n",
            "Epoch(0/1 : Batch number(565/782)  Batch loss : 0.5330315232276917\n",
            "Epoch(0/1 : Batch number(566/782)  Batch loss : 0.8783293962478638\n",
            "Epoch(0/1 : Batch number(567/782)  Batch loss : 0.7100450992584229\n",
            "Epoch(0/1 : Batch number(568/782)  Batch loss : 0.6569681763648987\n",
            "Epoch(0/1 : Batch number(569/782)  Batch loss : 0.4531044065952301\n",
            "Epoch(0/1 : Batch number(570/782)  Batch loss : 0.5707840323448181\n",
            "Epoch(0/1 : Batch number(571/782)  Batch loss : 1.0371825695037842\n",
            "Epoch(0/1 : Batch number(572/782)  Batch loss : 0.8226709961891174\n",
            "Epoch(0/1 : Batch number(573/782)  Batch loss : 0.6454219818115234\n",
            "Epoch(0/1 : Batch number(574/782)  Batch loss : 0.4835893511772156\n",
            "Epoch(0/1 : Batch number(575/782)  Batch loss : 0.6745184659957886\n",
            "Epoch(0/1 : Batch number(576/782)  Batch loss : 0.5433173179626465\n",
            "Epoch(0/1 : Batch number(577/782)  Batch loss : 0.7973840832710266\n",
            "Epoch(0/1 : Batch number(578/782)  Batch loss : 0.7109596133232117\n",
            "Epoch(0/1 : Batch number(579/782)  Batch loss : 0.6825996041297913\n",
            "Epoch(0/1 : Batch number(580/782)  Batch loss : 0.651606023311615\n",
            "Epoch(0/1 : Batch number(581/782)  Batch loss : 0.6985498666763306\n",
            "Epoch(0/1 : Batch number(582/782)  Batch loss : 0.8456939458847046\n",
            "Epoch(0/1 : Batch number(583/782)  Batch loss : 0.696795642375946\n",
            "Epoch(0/1 : Batch number(584/782)  Batch loss : 0.31220442056655884\n",
            "Epoch(0/1 : Batch number(585/782)  Batch loss : 0.6208019852638245\n",
            "Epoch(0/1 : Batch number(586/782)  Batch loss : 0.5125402212142944\n",
            "Epoch(0/1 : Batch number(587/782)  Batch loss : 0.7243947982788086\n",
            "Epoch(0/1 : Batch number(588/782)  Batch loss : 0.6200600862503052\n",
            "Epoch(0/1 : Batch number(589/782)  Batch loss : 0.770603358745575\n",
            "Epoch(0/1 : Batch number(590/782)  Batch loss : 0.5592727065086365\n",
            "Epoch(0/1 : Batch number(591/782)  Batch loss : 0.6809720993041992\n",
            "Epoch(0/1 : Batch number(592/782)  Batch loss : 0.6848598718643188\n",
            "Epoch(0/1 : Batch number(593/782)  Batch loss : 0.67013019323349\n",
            "Epoch(0/1 : Batch number(594/782)  Batch loss : 0.5630943179130554\n",
            "Epoch(0/1 : Batch number(595/782)  Batch loss : 0.547251284122467\n",
            "Epoch(0/1 : Batch number(596/782)  Batch loss : 0.7455173134803772\n",
            "Epoch(0/1 : Batch number(597/782)  Batch loss : 0.5765742063522339\n",
            "Epoch(0/1 : Batch number(598/782)  Batch loss : 0.5731806755065918\n",
            "Epoch(0/1 : Batch number(599/782)  Batch loss : 0.6372552514076233\n",
            "Epoch(0/1 : Batch number(600/782)  Batch loss : 0.624129056930542\n",
            "Epoch(0/1 : Batch number(601/782)  Batch loss : 0.5965574383735657\n",
            "Epoch(0/1 : Batch number(602/782)  Batch loss : 0.5810064077377319\n",
            "Epoch(0/1 : Batch number(603/782)  Batch loss : 0.5200055837631226\n",
            "Epoch(0/1 : Batch number(604/782)  Batch loss : 0.5332561135292053\n",
            "Epoch(0/1 : Batch number(605/782)  Batch loss : 0.5498021245002747\n",
            "Epoch(0/1 : Batch number(606/782)  Batch loss : 0.4080791175365448\n",
            "Epoch(0/1 : Batch number(607/782)  Batch loss : 0.5462989211082458\n",
            "Epoch(0/1 : Batch number(608/782)  Batch loss : 0.7715752720832825\n",
            "Epoch(0/1 : Batch number(609/782)  Batch loss : 0.4186149835586548\n",
            "Epoch(0/1 : Batch number(610/782)  Batch loss : 0.5550850629806519\n",
            "Epoch(0/1 : Batch number(611/782)  Batch loss : 0.6215428709983826\n",
            "Epoch(0/1 : Batch number(612/782)  Batch loss : 0.28752410411834717\n",
            "Epoch(0/1 : Batch number(613/782)  Batch loss : 0.6816033720970154\n",
            "Epoch(0/1 : Batch number(614/782)  Batch loss : 0.47055256366729736\n",
            "Epoch(0/1 : Batch number(615/782)  Batch loss : 0.6370714902877808\n",
            "Epoch(0/1 : Batch number(616/782)  Batch loss : 0.8261430263519287\n",
            "Epoch(0/1 : Batch number(617/782)  Batch loss : 0.41554582118988037\n",
            "Epoch(0/1 : Batch number(618/782)  Batch loss : 0.6585003137588501\n",
            "Epoch(0/1 : Batch number(619/782)  Batch loss : 0.6110413074493408\n",
            "Epoch(0/1 : Batch number(620/782)  Batch loss : 0.5223031640052795\n",
            "Epoch(0/1 : Batch number(621/782)  Batch loss : 0.9133726358413696\n",
            "Epoch(0/1 : Batch number(622/782)  Batch loss : 0.5331129431724548\n",
            "Epoch(0/1 : Batch number(623/782)  Batch loss : 0.6255601644515991\n",
            "Epoch(0/1 : Batch number(624/782)  Batch loss : 0.7813780307769775\n",
            "Epoch(0/1 : Batch number(625/782)  Batch loss : 0.5963372588157654\n",
            "Epoch(0/1 : Batch number(626/782)  Batch loss : 0.5952044725418091\n",
            "Epoch(0/1 : Batch number(627/782)  Batch loss : 0.5553529858589172\n",
            "Epoch(0/1 : Batch number(628/782)  Batch loss : 0.6975694298744202\n",
            "Epoch(0/1 : Batch number(629/782)  Batch loss : 0.5621891617774963\n",
            "Epoch(0/1 : Batch number(630/782)  Batch loss : 0.7797475457191467\n",
            "Epoch(0/1 : Batch number(631/782)  Batch loss : 0.8645767569541931\n",
            "Epoch(0/1 : Batch number(632/782)  Batch loss : 0.6586880683898926\n",
            "Epoch(0/1 : Batch number(633/782)  Batch loss : 0.350960373878479\n",
            "Epoch(0/1 : Batch number(634/782)  Batch loss : 0.6481987237930298\n",
            "Epoch(0/1 : Batch number(635/782)  Batch loss : 0.64840167760849\n",
            "Epoch(0/1 : Batch number(636/782)  Batch loss : 0.5448888540267944\n",
            "Epoch(0/1 : Batch number(637/782)  Batch loss : 0.6016659736633301\n",
            "Epoch(0/1 : Batch number(638/782)  Batch loss : 0.4919441342353821\n",
            "Epoch(0/1 : Batch number(639/782)  Batch loss : 0.7367158532142639\n",
            "Epoch(0/1 : Batch number(640/782)  Batch loss : 0.5623127818107605\n",
            "Epoch(0/1 : Batch number(641/782)  Batch loss : 0.7292554974555969\n",
            "Epoch(0/1 : Batch number(642/782)  Batch loss : 0.5828897356987\n",
            "Epoch(0/1 : Batch number(643/782)  Batch loss : 0.45815029740333557\n",
            "Epoch(0/1 : Batch number(644/782)  Batch loss : 0.5814269781112671\n",
            "Epoch(0/1 : Batch number(645/782)  Batch loss : 0.597883939743042\n",
            "Epoch(0/1 : Batch number(646/782)  Batch loss : 0.43867647647857666\n",
            "Epoch(0/1 : Batch number(647/782)  Batch loss : 0.5806078314781189\n",
            "Epoch(0/1 : Batch number(648/782)  Batch loss : 0.6225605010986328\n",
            "Epoch(0/1 : Batch number(649/782)  Batch loss : 0.7965449690818787\n",
            "Epoch(0/1 : Batch number(650/782)  Batch loss : 0.5562042593955994\n",
            "Epoch(0/1 : Batch number(651/782)  Batch loss : 0.6063779592514038\n",
            "Epoch(0/1 : Batch number(652/782)  Batch loss : 0.5559128522872925\n",
            "Epoch(0/1 : Batch number(653/782)  Batch loss : 0.7704142928123474\n",
            "Epoch(0/1 : Batch number(654/782)  Batch loss : 0.637800931930542\n",
            "Epoch(0/1 : Batch number(655/782)  Batch loss : 0.4826100766658783\n",
            "Epoch(0/1 : Batch number(656/782)  Batch loss : 0.6192384958267212\n",
            "Epoch(0/1 : Batch number(657/782)  Batch loss : 0.5204560160636902\n",
            "Epoch(0/1 : Batch number(658/782)  Batch loss : 0.4908108711242676\n",
            "Epoch(0/1 : Batch number(659/782)  Batch loss : 0.7180570363998413\n",
            "Epoch(0/1 : Batch number(660/782)  Batch loss : 0.7429839372634888\n",
            "Epoch(0/1 : Batch number(661/782)  Batch loss : 0.5027334690093994\n",
            "Epoch(0/1 : Batch number(662/782)  Batch loss : 0.6221180558204651\n",
            "Epoch(0/1 : Batch number(663/782)  Batch loss : 0.5735524892807007\n",
            "Epoch(0/1 : Batch number(664/782)  Batch loss : 0.5326688289642334\n",
            "Epoch(0/1 : Batch number(665/782)  Batch loss : 0.5724506974220276\n",
            "Epoch(0/1 : Batch number(666/782)  Batch loss : 0.34783872961997986\n",
            "Epoch(0/1 : Batch number(667/782)  Batch loss : 0.5937166810035706\n",
            "Epoch(0/1 : Batch number(668/782)  Batch loss : 0.43408361077308655\n",
            "Epoch(0/1 : Batch number(669/782)  Batch loss : 0.585453987121582\n",
            "Epoch(0/1 : Batch number(670/782)  Batch loss : 0.539215624332428\n",
            "Epoch(0/1 : Batch number(671/782)  Batch loss : 0.7726572751998901\n",
            "Epoch(0/1 : Batch number(672/782)  Batch loss : 0.39862802624702454\n",
            "Epoch(0/1 : Batch number(673/782)  Batch loss : 0.6004220843315125\n",
            "Epoch(0/1 : Batch number(674/782)  Batch loss : 0.48125988245010376\n",
            "Epoch(0/1 : Batch number(675/782)  Batch loss : 0.46607324481010437\n",
            "Epoch(0/1 : Batch number(676/782)  Batch loss : 0.9119809865951538\n",
            "Epoch(0/1 : Batch number(677/782)  Batch loss : 0.4915909171104431\n",
            "Epoch(0/1 : Batch number(678/782)  Batch loss : 0.32412189245224\n",
            "Epoch(0/1 : Batch number(679/782)  Batch loss : 0.4014175236225128\n",
            "Epoch(0/1 : Batch number(680/782)  Batch loss : 0.6972252726554871\n",
            "Epoch(0/1 : Batch number(681/782)  Batch loss : 0.7280203700065613\n",
            "Epoch(0/1 : Batch number(682/782)  Batch loss : 0.540956437587738\n",
            "Epoch(0/1 : Batch number(683/782)  Batch loss : 0.6643986105918884\n",
            "Epoch(0/1 : Batch number(684/782)  Batch loss : 0.7213711738586426\n",
            "Epoch(0/1 : Batch number(685/782)  Batch loss : 0.672116219997406\n",
            "Epoch(0/1 : Batch number(686/782)  Batch loss : 0.6055347919464111\n",
            "Epoch(0/1 : Batch number(687/782)  Batch loss : 0.6314168572425842\n",
            "Epoch(0/1 : Batch number(688/782)  Batch loss : 0.5406501889228821\n",
            "Epoch(0/1 : Batch number(689/782)  Batch loss : 0.532561719417572\n",
            "Epoch(0/1 : Batch number(690/782)  Batch loss : 0.5921642780303955\n",
            "Epoch(0/1 : Batch number(691/782)  Batch loss : 0.42853567004203796\n",
            "Epoch(0/1 : Batch number(692/782)  Batch loss : 0.6167551279067993\n",
            "Epoch(0/1 : Batch number(693/782)  Batch loss : 0.589387059211731\n",
            "Epoch(0/1 : Batch number(694/782)  Batch loss : 0.5212668180465698\n",
            "Epoch(0/1 : Batch number(695/782)  Batch loss : 0.8411492109298706\n",
            "Epoch(0/1 : Batch number(696/782)  Batch loss : 0.40667852759361267\n",
            "Epoch(0/1 : Batch number(697/782)  Batch loss : 0.5373712182044983\n",
            "Epoch(0/1 : Batch number(698/782)  Batch loss : 0.60208660364151\n",
            "Epoch(0/1 : Batch number(699/782)  Batch loss : 1.1227749586105347\n",
            "Epoch(0/1 : Batch number(700/782)  Batch loss : 0.5060638785362244\n",
            "Epoch(0/1 : Batch number(701/782)  Batch loss : 0.531306803226471\n",
            "Epoch(0/1 : Batch number(702/782)  Batch loss : 0.631621241569519\n",
            "Epoch(0/1 : Batch number(703/782)  Batch loss : 0.6281233429908752\n",
            "Epoch(0/1 : Batch number(704/782)  Batch loss : 0.5640134215354919\n",
            "Epoch(0/1 : Batch number(705/782)  Batch loss : 0.8707689046859741\n",
            "Epoch(0/1 : Batch number(706/782)  Batch loss : 0.7836233377456665\n",
            "Epoch(0/1 : Batch number(707/782)  Batch loss : 0.5357091426849365\n",
            "Epoch(0/1 : Batch number(708/782)  Batch loss : 0.7254178524017334\n",
            "Epoch(0/1 : Batch number(709/782)  Batch loss : 0.534138560295105\n",
            "Epoch(0/1 : Batch number(710/782)  Batch loss : 0.7274830937385559\n",
            "Epoch(0/1 : Batch number(711/782)  Batch loss : 0.47026538848876953\n",
            "Epoch(0/1 : Batch number(712/782)  Batch loss : 0.5441840887069702\n",
            "Epoch(0/1 : Batch number(713/782)  Batch loss : 0.728118896484375\n",
            "Epoch(0/1 : Batch number(714/782)  Batch loss : 0.8306944370269775\n",
            "Epoch(0/1 : Batch number(715/782)  Batch loss : 0.33698123693466187\n",
            "Epoch(0/1 : Batch number(716/782)  Batch loss : 0.5806064605712891\n",
            "Epoch(0/1 : Batch number(717/782)  Batch loss : 0.45596548914909363\n",
            "Epoch(0/1 : Batch number(718/782)  Batch loss : 0.9077878594398499\n",
            "Epoch(0/1 : Batch number(719/782)  Batch loss : 0.6264101266860962\n",
            "Epoch(0/1 : Batch number(720/782)  Batch loss : 0.6075310707092285\n",
            "Epoch(0/1 : Batch number(721/782)  Batch loss : 0.4470079839229584\n",
            "Epoch(0/1 : Batch number(722/782)  Batch loss : 0.6068398952484131\n",
            "Epoch(0/1 : Batch number(723/782)  Batch loss : 0.588160514831543\n",
            "Epoch(0/1 : Batch number(724/782)  Batch loss : 0.5606600046157837\n",
            "Epoch(0/1 : Batch number(725/782)  Batch loss : 0.6236353516578674\n",
            "Epoch(0/1 : Batch number(726/782)  Batch loss : 0.46426087617874146\n",
            "Epoch(0/1 : Batch number(727/782)  Batch loss : 0.5720803737640381\n",
            "Epoch(0/1 : Batch number(728/782)  Batch loss : 0.8386735916137695\n",
            "Epoch(0/1 : Batch number(729/782)  Batch loss : 0.6535588502883911\n",
            "Epoch(0/1 : Batch number(730/782)  Batch loss : 0.47100818157196045\n",
            "Epoch(0/1 : Batch number(731/782)  Batch loss : 0.6853204369544983\n",
            "Epoch(0/1 : Batch number(732/782)  Batch loss : 0.4354565143585205\n",
            "Epoch(0/1 : Batch number(733/782)  Batch loss : 0.5727224946022034\n",
            "Epoch(0/1 : Batch number(734/782)  Batch loss : 0.4053595960140228\n",
            "Epoch(0/1 : Batch number(735/782)  Batch loss : 0.7875151038169861\n",
            "Epoch(0/1 : Batch number(736/782)  Batch loss : 0.5084353685379028\n",
            "Epoch(0/1 : Batch number(737/782)  Batch loss : 0.5327107310295105\n",
            "Epoch(0/1 : Batch number(738/782)  Batch loss : 0.6283386945724487\n",
            "Epoch(0/1 : Batch number(739/782)  Batch loss : 0.6011730432510376\n",
            "Epoch(0/1 : Batch number(740/782)  Batch loss : 0.5946457982063293\n",
            "Epoch(0/1 : Batch number(741/782)  Batch loss : 0.4346607029438019\n",
            "Epoch(0/1 : Batch number(742/782)  Batch loss : 0.5845516324043274\n",
            "Epoch(0/1 : Batch number(743/782)  Batch loss : 0.9448148608207703\n",
            "Epoch(0/1 : Batch number(744/782)  Batch loss : 0.5232375860214233\n",
            "Epoch(0/1 : Batch number(745/782)  Batch loss : 0.3705950379371643\n",
            "Epoch(0/1 : Batch number(746/782)  Batch loss : 0.5552114248275757\n",
            "Epoch(0/1 : Batch number(747/782)  Batch loss : 0.5972880125045776\n",
            "Epoch(0/1 : Batch number(748/782)  Batch loss : 0.7317127585411072\n",
            "Epoch(0/1 : Batch number(749/782)  Batch loss : 0.5412258505821228\n",
            "Epoch(0/1 : Batch number(750/782)  Batch loss : 0.5355898141860962\n",
            "Epoch(0/1 : Batch number(751/782)  Batch loss : 0.8159299492835999\n",
            "Epoch(0/1 : Batch number(752/782)  Batch loss : 0.6405194997787476\n",
            "Epoch(0/1 : Batch number(753/782)  Batch loss : 0.7163451313972473\n",
            "Epoch(0/1 : Batch number(754/782)  Batch loss : 0.5819560885429382\n",
            "Epoch(0/1 : Batch number(755/782)  Batch loss : 0.409741073846817\n",
            "Epoch(0/1 : Batch number(756/782)  Batch loss : 0.7913163900375366\n",
            "Epoch(0/1 : Batch number(757/782)  Batch loss : 0.3693932294845581\n",
            "Epoch(0/1 : Batch number(758/782)  Batch loss : 0.5481786727905273\n",
            "Epoch(0/1 : Batch number(759/782)  Batch loss : 0.4966299533843994\n",
            "Epoch(0/1 : Batch number(760/782)  Batch loss : 0.6191678047180176\n",
            "Epoch(0/1 : Batch number(761/782)  Batch loss : 0.622431755065918\n",
            "Epoch(0/1 : Batch number(762/782)  Batch loss : 0.6056966781616211\n",
            "Epoch(0/1 : Batch number(763/782)  Batch loss : 0.6456253528594971\n",
            "Epoch(0/1 : Batch number(764/782)  Batch loss : 0.6025310158729553\n",
            "Epoch(0/1 : Batch number(765/782)  Batch loss : 0.44109541177749634\n",
            "Epoch(0/1 : Batch number(766/782)  Batch loss : 0.9304428696632385\n",
            "Epoch(0/1 : Batch number(767/782)  Batch loss : 0.5455023050308228\n",
            "Epoch(0/1 : Batch number(768/782)  Batch loss : 0.8445097208023071\n",
            "Epoch(0/1 : Batch number(769/782)  Batch loss : 0.5057961940765381\n",
            "Epoch(0/1 : Batch number(770/782)  Batch loss : 0.6565344333648682\n",
            "Epoch(0/1 : Batch number(771/782)  Batch loss : 0.5168434381484985\n",
            "Epoch(0/1 : Batch number(772/782)  Batch loss : 0.7554523944854736\n",
            "Epoch(0/1 : Batch number(773/782)  Batch loss : 0.9183577299118042\n",
            "Epoch(0/1 : Batch number(774/782)  Batch loss : 0.6569879055023193\n",
            "Epoch(0/1 : Batch number(775/782)  Batch loss : 0.4941190183162689\n",
            "Epoch(0/1 : Batch number(776/782)  Batch loss : 0.6079913377761841\n",
            "Epoch(0/1 : Batch number(777/782)  Batch loss : 0.5224966406822205\n",
            "Epoch(0/1 : Batch number(778/782)  Batch loss : 0.6127919554710388\n",
            "Epoch(0/1 : Batch number(779/782)  Batch loss : 0.47736620903015137\n",
            "Epoch(0/1 : Batch number(780/782)  Batch loss : 0.5247018337249756\n",
            "Epoch(0/1 : Batch number(781/782)  Batch loss : 0.6388786435127258\n",
            "Epoch(0/1 : Batch number(782/782)  Batch loss : 0.4360859990119934\n",
            "Training loss : 0.6516314187394384\n"
          ],
          "name": "stdout"
        }
      ]
    },
    {
      "cell_type": "markdown",
      "metadata": {
        "id": "QmiIFDJXDsan",
        "colab_type": "text"
      },
      "source": [
        "## Evaluating the network and viewing images"
      ]
    },
    {
      "cell_type": "code",
      "metadata": {
        "id": "8Tg9qA_FD-X8",
        "colab_type": "code",
        "colab": {}
      },
      "source": [
        "import matplotlib.pyplot as plt\n",
        "%matplotlib inline\n",
        "import numpy as np"
      ],
      "execution_count": 0,
      "outputs": []
    },
    {
      "cell_type": "code",
      "metadata": {
        "id": "IPuKt5cONpz9",
        "colab_type": "code",
        "colab": {
          "base_uri": "https://localhost:8080/",
          "height": 1000
        },
        "outputId": "bfef31c1-8236-4886-fb7d-07e6198e7033"
      },
      "source": [
        "CIFAR10_classes = ['plane', 'car', 'bird', 'cat',\n",
        "           'deer', 'dog', 'frog', 'horse', 'ship', 'truck']\n",
        "\n",
        "\n",
        "model.to('cpu')\n",
        "\n",
        "model.eval()\n",
        "\n",
        "with torch.no_grad():\n",
        "  images, labels = next(iter(testloader))\n",
        "  logps = model(images)\n",
        "  \n",
        "  output = torch.exp(logps)\n",
        "  print(output)\n"
      ],
      "execution_count": 15,
      "outputs": [
        {
          "output_type": "stream",
          "text": [
            "tensor([[1.9832e-03, 1.0550e-02, 6.3795e-03, 7.6074e-01, 2.6571e-04, 1.1505e-01,\n",
            "         8.8712e-02, 9.3326e-03, 6.3531e-03, 6.3337e-04],\n",
            "        [1.5985e-02, 7.3376e-02, 1.7617e-05, 4.6779e-05, 9.1411e-07, 6.4348e-06,\n",
            "         3.9405e-06, 4.3039e-06, 9.0967e-01, 8.9272e-04],\n",
            "        [2.3525e-03, 4.9643e-03, 8.2419e-07, 3.4183e-07, 9.6856e-08, 1.3868e-07,\n",
            "         4.3836e-08, 2.3317e-06, 9.9266e-01, 2.4164e-05],\n",
            "        [5.6761e-01, 1.3968e-03, 1.3093e-01, 4.4558e-02, 8.9949e-04, 1.8495e-03,\n",
            "         7.5256e-04, 1.4392e-03, 2.5006e-01, 5.0676e-04],\n",
            "        [2.5387e-08, 5.1702e-08, 1.7746e-03, 5.4802e-05, 6.9596e-05, 2.7163e-06,\n",
            "         9.9810e-01, 8.3080e-08, 6.6045e-08, 1.9301e-07],\n",
            "        [1.8315e-05, 6.9692e-06, 5.1900e-04, 1.0480e-01, 1.8594e-02, 7.8483e-02,\n",
            "         7.9646e-01, 1.0125e-03, 9.4882e-07, 1.0755e-04],\n",
            "        [8.2737e-05, 9.7995e-01, 2.2588e-06, 1.0293e-04, 9.2115e-08, 3.1042e-04,\n",
            "         1.0139e-05, 4.1358e-05, 1.8385e-05, 1.9485e-02],\n",
            "        [2.9829e-02, 7.4390e-03, 7.7395e-02, 7.8617e-02, 1.2615e-02, 1.2893e-02,\n",
            "         6.9257e-01, 3.3930e-02, 1.4023e-02, 4.0688e-02],\n",
            "        [1.7150e-04, 2.1647e-06, 3.1607e-02, 9.5237e-01, 5.5609e-03, 4.6435e-03,\n",
            "         4.4127e-03, 1.1518e-03, 7.6089e-05, 5.9549e-06],\n",
            "        [3.2789e-05, 9.3866e-01, 1.8841e-05, 4.1563e-04, 7.8200e-05, 5.4088e-04,\n",
            "         2.4284e-04, 1.6306e-04, 4.2717e-04, 5.9423e-02],\n",
            "        [9.5760e-01, 2.3708e-05, 9.4614e-03, 9.5979e-03, 4.6561e-03, 2.7074e-03,\n",
            "         3.7893e-04, 1.2332e-02, 2.5998e-03, 6.4182e-04],\n",
            "        [5.0738e-08, 1.4895e-03, 8.9474e-10, 1.0481e-08, 2.5619e-10, 8.5452e-09,\n",
            "         9.1268e-10, 2.3073e-09, 4.8507e-07, 9.9851e-01],\n",
            "        [3.7333e-05, 2.5085e-05, 1.9734e-03, 2.2886e-01, 1.4475e-03, 6.8611e-01,\n",
            "         2.9511e-03, 7.8576e-02, 1.3853e-05, 1.3493e-05],\n",
            "        [2.6812e-04, 3.9851e-04, 1.5085e-02, 1.1912e-01, 2.9201e-03, 1.3633e-01,\n",
            "         2.3185e-03, 7.2273e-01, 7.5906e-05, 7.4774e-04],\n",
            "        [1.4592e-05, 1.8808e-03, 9.0257e-08, 5.1235e-07, 1.3875e-07, 2.6721e-07,\n",
            "         3.7692e-09, 1.5562e-06, 1.9942e-05, 9.9808e-01],\n",
            "        [4.8707e-02, 7.3268e-03, 2.2379e-02, 7.1832e-04, 1.2722e-04, 4.3062e-03,\n",
            "         7.4127e-02, 2.1288e-04, 8.4202e-01, 7.8227e-05],\n",
            "        [7.4917e-06, 3.8198e-06, 2.5777e-04, 7.7843e-02, 2.1463e-05, 9.2101e-01,\n",
            "         7.6824e-05, 7.7154e-04, 5.1895e-06, 6.1406e-06],\n",
            "        [3.7383e-04, 1.2816e-02, 2.6687e-03, 2.8971e-03, 3.0171e-03, 1.2529e-01,\n",
            "         3.9671e-03, 8.4370e-01, 7.3212e-05, 5.1910e-03],\n",
            "        [2.2275e-04, 2.6141e-04, 1.5013e-06, 1.8249e-06, 1.6816e-05, 3.0079e-07,\n",
            "         2.5640e-08, 3.0136e-05, 9.9823e-01, 1.2390e-03],\n",
            "        [1.0958e-04, 1.1972e-05, 6.2406e-03, 7.3736e-04, 1.2788e-03, 4.1044e-05,\n",
            "         9.9155e-01, 2.8512e-06, 2.2705e-05, 7.6510e-06],\n",
            "        [4.1362e-02, 2.9087e-03, 1.3095e-02, 3.4768e-02, 2.9468e-02, 2.6155e-02,\n",
            "         6.5135e-04, 8.4740e-01, 2.5177e-03, 1.6754e-03],\n",
            "        [9.8831e-01, 3.4178e-04, 4.5253e-03, 3.6988e-03, 4.1376e-04, 3.6274e-04,\n",
            "         6.0876e-04, 3.2324e-04, 1.3130e-03, 1.0698e-04],\n",
            "        [1.5834e-01, 1.1943e-04, 6.5838e-02, 1.5975e-02, 6.9894e-01, 4.3883e-03,\n",
            "         3.0083e-02, 7.0758e-03, 1.9198e-02, 4.5163e-05],\n",
            "        [2.1246e-04, 1.9409e-01, 6.5303e-07, 1.9586e-05, 1.2503e-07, 2.7043e-05,\n",
            "         4.9231e-08, 8.1433e-06, 1.7393e-05, 8.0562e-01],\n",
            "        [9.5119e-06, 1.1556e-05, 8.2031e-03, 4.7857e-02, 4.0827e-02, 8.9636e-01,\n",
            "         1.7059e-03, 4.8785e-03, 1.3749e-04, 1.1007e-05],\n",
            "        [6.9281e-04, 3.9103e-05, 7.7425e-01, 3.8126e-02, 7.9288e-02, 2.6214e-02,\n",
            "         5.0255e-04, 8.0739e-02, 1.0384e-04, 4.3850e-05],\n",
            "        [2.5335e-03, 7.5597e-04, 4.2132e-02, 3.1872e-01, 4.8166e-01, 6.3129e-02,\n",
            "         5.1077e-02, 3.5677e-02, 1.8600e-03, 2.4526e-03],\n",
            "        [5.6537e-01, 8.1092e-05, 2.7549e-01, 8.8668e-03, 4.2815e-02, 1.1740e-03,\n",
            "         2.1778e-02, 8.0524e-02, 2.0937e-03, 1.8065e-03],\n",
            "        [1.2038e-05, 8.1266e-04, 1.4183e-07, 2.7410e-06, 8.8281e-07, 7.5155e-07,\n",
            "         6.1543e-08, 2.3118e-05, 8.8006e-06, 9.9914e-01],\n",
            "        [2.4206e-05, 3.1218e-07, 3.0953e-03, 4.3174e-03, 1.8098e-03, 2.3248e-04,\n",
            "         9.9046e-01, 5.4503e-05, 2.4379e-06, 7.9468e-07],\n",
            "        [7.5420e-04, 3.8379e-04, 3.2922e-02, 1.3216e-01, 4.1699e-03, 1.7107e-03,\n",
            "         8.2626e-01, 8.1494e-04, 4.5088e-05, 7.8384e-04],\n",
            "        [3.7497e-06, 3.9809e-05, 6.9479e-03, 1.4594e-02, 4.1793e-03, 9.7060e-01,\n",
            "         1.0372e-03, 2.5854e-03, 1.5473e-05, 2.2712e-06],\n",
            "        [1.6662e-04, 1.2420e-03, 7.8290e-02, 4.8169e-03, 8.8126e-01, 1.1393e-02,\n",
            "         1.9494e-02, 2.7854e-03, 3.5002e-04, 1.9815e-04],\n",
            "        [2.0411e-05, 8.2844e-04, 1.6262e-02, 6.6538e-01, 3.5793e-02, 2.5912e-01,\n",
            "         2.1542e-02, 9.9496e-04, 1.1321e-05, 4.3133e-05],\n",
            "        [2.2850e-03, 1.2184e-04, 9.9294e-07, 4.4895e-07, 1.8805e-06, 3.1192e-07,\n",
            "         5.3865e-08, 4.4601e-06, 4.7175e-04, 9.9711e-01],\n",
            "        [3.5563e-03, 7.0236e-03, 9.8963e-02, 2.6576e-01, 3.5717e-04, 5.9123e-01,\n",
            "         5.5350e-03, 1.2094e-02, 1.0481e-02, 4.9961e-03],\n",
            "        [2.4320e-06, 8.1814e-09, 7.1617e-04, 9.6346e-04, 8.8978e-01, 1.1757e-02,\n",
            "         3.0130e-05, 9.6752e-02, 2.7942e-07, 1.9838e-08],\n",
            "        [4.8900e-04, 6.1765e-01, 1.1478e-06, 2.9687e-05, 3.8323e-06, 7.2385e-06,\n",
            "         2.2440e-07, 1.6076e-05, 5.2697e-05, 3.8175e-01],\n",
            "        [1.4683e-04, 1.3468e-03, 2.2927e-05, 1.6559e-03, 3.8417e-06, 2.5046e-03,\n",
            "         2.4398e-06, 6.3236e-04, 2.5314e-03, 9.9115e-01],\n",
            "        [4.6970e-08, 5.1172e-07, 2.0744e-06, 3.6913e-04, 8.2646e-07, 9.9962e-01,\n",
            "         7.6606e-06, 3.3746e-06, 2.9967e-07, 1.2583e-07],\n",
            "        [2.5406e-01, 1.9627e-03, 5.6272e-01, 4.7772e-03, 6.5682e-02, 1.2710e-03,\n",
            "         1.2475e-02, 9.5959e-02, 6.6753e-04, 4.2574e-04],\n",
            "        [6.8147e-05, 5.0167e-05, 3.2667e-03, 4.9546e-04, 3.7891e-03, 8.9694e-05,\n",
            "         9.9193e-01, 2.0915e-04, 1.0680e-05, 9.0924e-05],\n",
            "        [4.9572e-05, 1.4853e-05, 8.6605e-04, 5.3466e-02, 5.3421e-05, 9.3952e-01,\n",
            "         3.4666e-05, 5.9479e-03, 2.0627e-05, 2.8940e-05],\n",
            "        [9.3510e-05, 1.1254e-04, 7.8406e-03, 3.8542e-02, 1.0970e-03, 1.5362e-02,\n",
            "         9.3627e-01, 9.1947e-05, 3.8518e-04, 2.0745e-04],\n",
            "        [8.4384e-01, 1.0406e-01, 2.2124e-03, 2.8993e-05, 6.0057e-04, 1.4025e-04,\n",
            "         2.0739e-04, 5.2500e-04, 2.0052e-02, 2.8338e-02],\n",
            "        [4.7121e-05, 2.8783e-04, 5.3715e-08, 1.3863e-07, 3.1171e-08, 4.5449e-08,\n",
            "         6.0172e-10, 2.3882e-05, 6.1393e-04, 9.9903e-01],\n",
            "        [6.8462e-06, 4.3754e-04, 1.9116e-02, 6.3344e-01, 3.1405e-02, 2.9377e-01,\n",
            "         5.1241e-03, 1.6368e-02, 1.9630e-04, 1.3232e-04],\n",
            "        [2.6749e-02, 1.6576e-01, 1.6427e-04, 1.0766e-03, 1.5619e-05, 2.8366e-05,\n",
            "         7.0628e-05, 1.0006e-03, 7.6924e-02, 7.2821e-01],\n",
            "        [4.2100e-07, 7.1985e-08, 1.3166e-03, 3.1610e-05, 1.1984e-01, 6.3346e-04,\n",
            "         8.1846e-06, 8.7817e-01, 1.7854e-07, 1.1966e-07],\n",
            "        [1.0195e-04, 5.7376e-05, 5.8158e-02, 9.0107e-04, 7.1424e-03, 2.7570e-03,\n",
            "         9.3080e-01, 2.8034e-05, 5.0988e-05, 5.2688e-07],\n",
            "        [2.5913e-02, 5.9916e-05, 1.2757e-05, 2.2018e-06, 4.5009e-05, 4.9648e-07,\n",
            "         3.6011e-07, 3.5012e-05, 1.7491e-03, 9.7218e-01],\n",
            "        [8.5898e-03, 1.2110e-05, 6.0373e-04, 2.0470e-05, 1.2198e-04, 1.4505e-05,\n",
            "         3.1339e-05, 2.5200e-04, 9.8991e-01, 4.4519e-04],\n",
            "        [3.6247e-01, 5.1673e-04, 1.8410e-02, 4.1590e-03, 4.1406e-04, 1.0494e-02,\n",
            "         2.2482e-02, 5.9596e-04, 5.0982e-01, 7.0637e-02],\n",
            "        [8.7955e-05, 2.6118e-04, 3.1221e-02, 7.9545e-01, 8.8716e-03, 1.6447e-02,\n",
            "         1.4386e-01, 2.1498e-03, 1.5309e-04, 1.4997e-03],\n",
            "        [6.7276e-03, 8.2969e-07, 1.4931e-06, 6.4657e-08, 4.3556e-08, 5.1993e-08,\n",
            "         5.2857e-09, 1.5958e-07, 9.9327e-01, 9.3472e-08],\n",
            "        [8.5582e-04, 2.8774e-06, 8.7151e-04, 4.5984e-05, 1.2384e-04, 1.1741e-04,\n",
            "         6.5852e-08, 1.7691e-04, 9.9780e-01, 7.2796e-06],\n",
            "        [3.0565e-04, 4.7276e-04, 7.9472e-04, 5.5828e-02, 2.3460e-03, 1.7035e-01,\n",
            "         3.2796e-05, 7.6846e-01, 5.2048e-05, 1.3609e-03],\n",
            "        [1.8781e-01, 2.2607e-02, 6.7290e-02, 4.2167e-01, 4.6836e-02, 7.6727e-02,\n",
            "         1.0510e-01, 4.3896e-02, 2.1725e-02, 6.3414e-03],\n",
            "        [3.1893e-03, 2.2215e-04, 1.2229e-02, 4.9462e-01, 6.4532e-02, 3.8734e-01,\n",
            "         7.7737e-03, 2.5346e-02, 3.6189e-03, 1.1271e-03],\n",
            "        [2.3178e-02, 7.2093e-03, 1.3136e-02, 6.7395e-01, 1.3814e-02, 1.8002e-01,\n",
            "         4.6367e-02, 2.7306e-02, 1.0765e-02, 4.2504e-03],\n",
            "        [1.0260e-06, 2.8764e-07, 5.1421e-04, 6.4594e-06, 3.1262e-01, 1.3980e-04,\n",
            "         7.4535e-06, 6.8671e-01, 5.7789e-08, 6.6776e-08],\n",
            "        [7.2243e-05, 4.3903e-05, 1.4906e-01, 4.9644e-01, 5.3501e-03, 3.0996e-01,\n",
            "         1.4372e-02, 2.4589e-02, 5.7029e-05, 5.9274e-05],\n",
            "        [9.1954e-03, 3.4207e-03, 1.4800e-02, 3.1815e-03, 3.3646e-03, 1.9743e-03,\n",
            "         9.5796e-01, 2.7809e-03, 1.6040e-03, 1.7203e-03],\n",
            "        [1.6711e-03, 2.3439e-01, 3.4951e-02, 5.6053e-01, 1.0226e-03, 6.1260e-02,\n",
            "         1.8771e-03, 1.6745e-03, 4.0419e-02, 6.2200e-02]])\n"
          ],
          "name": "stdout"
        }
      ]
    },
    {
      "cell_type": "code",
      "metadata": {
        "id": "dAHiRMrLDqWt",
        "colab_type": "code",
        "colab": {
          "base_uri": "https://localhost:8080/",
          "height": 850
        },
        "outputId": "032a876f-9e25-422f-8e13-8a5f2da931e9"
      },
      "source": [
        "CIFAR10_classes = ['plane', 'car', 'bird', 'cat',\n",
        "           'deer', 'dog', 'frog', 'horse', 'ship', 'truck']\n",
        "\n",
        "\n",
        "model.to('cpu')\n",
        "\n",
        "model.eval()\n",
        "\n",
        "with torch.no_grad():\n",
        "  images, labels = next(iter(testloader))\n",
        "  logps = model(images)\n",
        "  \n",
        "  output = torch.exp(logps)\n",
        "  \n",
        "  pred = torch.argmax(output,1)\n",
        "    \n",
        "model.train()"
      ],
      "execution_count": 16,
      "outputs": [
        {
          "output_type": "execute_result",
          "data": {
            "text/plain": [
              "VGG(\n",
              "  (features): Sequential(\n",
              "    (0): Conv2d(3, 64, kernel_size=(3, 3), stride=(1, 1), padding=(1, 1))\n",
              "    (1): ReLU(inplace)\n",
              "    (2): Conv2d(64, 64, kernel_size=(3, 3), stride=(1, 1), padding=(1, 1))\n",
              "    (3): ReLU(inplace)\n",
              "    (4): MaxPool2d(kernel_size=2, stride=2, padding=0, dilation=1, ceil_mode=False)\n",
              "    (5): Conv2d(64, 128, kernel_size=(3, 3), stride=(1, 1), padding=(1, 1))\n",
              "    (6): ReLU(inplace)\n",
              "    (7): Conv2d(128, 128, kernel_size=(3, 3), stride=(1, 1), padding=(1, 1))\n",
              "    (8): ReLU(inplace)\n",
              "    (9): MaxPool2d(kernel_size=2, stride=2, padding=0, dilation=1, ceil_mode=False)\n",
              "    (10): Conv2d(128, 256, kernel_size=(3, 3), stride=(1, 1), padding=(1, 1))\n",
              "    (11): ReLU(inplace)\n",
              "    (12): Conv2d(256, 256, kernel_size=(3, 3), stride=(1, 1), padding=(1, 1))\n",
              "    (13): ReLU(inplace)\n",
              "    (14): Conv2d(256, 256, kernel_size=(3, 3), stride=(1, 1), padding=(1, 1))\n",
              "    (15): ReLU(inplace)\n",
              "    (16): MaxPool2d(kernel_size=2, stride=2, padding=0, dilation=1, ceil_mode=False)\n",
              "    (17): Conv2d(256, 512, kernel_size=(3, 3), stride=(1, 1), padding=(1, 1))\n",
              "    (18): ReLU(inplace)\n",
              "    (19): Conv2d(512, 512, kernel_size=(3, 3), stride=(1, 1), padding=(1, 1))\n",
              "    (20): ReLU(inplace)\n",
              "    (21): Conv2d(512, 512, kernel_size=(3, 3), stride=(1, 1), padding=(1, 1))\n",
              "    (22): ReLU(inplace)\n",
              "    (23): MaxPool2d(kernel_size=2, stride=2, padding=0, dilation=1, ceil_mode=False)\n",
              "    (24): Conv2d(512, 512, kernel_size=(3, 3), stride=(1, 1), padding=(1, 1))\n",
              "    (25): ReLU(inplace)\n",
              "    (26): Conv2d(512, 512, kernel_size=(3, 3), stride=(1, 1), padding=(1, 1))\n",
              "    (27): ReLU(inplace)\n",
              "    (28): Conv2d(512, 512, kernel_size=(3, 3), stride=(1, 1), padding=(1, 1))\n",
              "    (29): ReLU(inplace)\n",
              "    (30): MaxPool2d(kernel_size=2, stride=2, padding=0, dilation=1, ceil_mode=False)\n",
              "  )\n",
              "  (avgpool): AdaptiveAvgPool2d(output_size=(7, 7))\n",
              "  (classifier): Sequential(\n",
              "    (0): Linear(in_features=25088, out_features=4096, bias=True)\n",
              "    (1): ReLU(inplace)\n",
              "    (2): Dropout(p=0.5)\n",
              "    (3): Linear(in_features=4096, out_features=4096, bias=True)\n",
              "    (4): ReLU(inplace)\n",
              "    (5): Dropout(p=0.5)\n",
              "    (6): Sequential(\n",
              "      (0): Linear(in_features=4096, out_features=10, bias=True)\n",
              "      (1): LogSoftmax()\n",
              "    )\n",
              "  )\n",
              ")"
            ]
          },
          "metadata": {
            "tags": []
          },
          "execution_count": 16
        }
      ]
    },
    {
      "cell_type": "code",
      "metadata": {
        "id": "xaef1eekLP9h",
        "colab_type": "code",
        "colab": {
          "base_uri": "https://localhost:8080/",
          "height": 286
        },
        "outputId": "c4cbf750-8adb-4556-9081-29fc12103421"
      },
      "source": [
        "test_image_id=0\n",
        "\n",
        "def denormalize(tensor):\n",
        "  tensor = tensor*std+ mean\n",
        "  return tensor\n",
        "\n",
        "def show_img(img):\n",
        "  img = img.numpy().transpose((1,2,0))\n",
        "  img = denormalize(img)\n",
        "  img = np.clip(img,0,1)\n",
        "  plt.imshow(img)\n",
        "  \n",
        "def get_CIFAR10_class(id):\n",
        "  CIFAR10_classes = ['plane', 'car', 'bird', 'cat',\n",
        "           'deer', 'dog', 'frog', 'horse', 'ship', 'truck']\n",
        "  return CIFAR10_classes[id]\n",
        "\n",
        "show_img(images[test_image_id])\n",
        "print(get_CIFAR10_class(pred[test_image_id]))"
      ],
      "execution_count": 18,
      "outputs": [
        {
          "output_type": "stream",
          "text": [
            "cat\n"
          ],
          "name": "stdout"
        },
        {
          "output_type": "display_data",
          "data": {
            "image/png": "[encoded data removed]",
            "text/plain": [
              "<Figure size 432x288 with 1 Axes>"
            ]
          },
          "metadata": {
            "tags": []
          }
        }
      ]
    },
    {
      "cell_type": "code",
      "metadata": {
        "id": "p9QQbjReyEHz",
        "colab_type": "code",
        "colab": {}
      },
      "source": [
        ""
      ],
      "execution_count": 0,
      "outputs": []
    },
    {
      "cell_type": "markdown",
      "metadata": {
        "id": "icQvTdftMkPq",
        "colab_type": "text"
      },
      "source": [
        "## Viewing images & normalization - Under the hood"
      ]
    },
    {
      "cell_type": "code",
      "metadata": {
        "id": "Pr1K5dNN5pzP",
        "colab_type": "code",
        "colab": {
          "base_uri": "https://localhost:8080/",
          "height": 69
        },
        "outputId": "3ffa788a-c74e-4660-da94-dfa79e1d0772"
      },
      "source": [
        "pred"
      ],
      "execution_count": 19,
      "outputs": [
        {
          "output_type": "execute_result",
          "data": {
            "text/plain": [
              "tensor([3, 8, 8, 0, 6, 6, 1, 6, 3, 1, 0, 9, 5, 7, 9, 8, 5, 7, 8, 6, 7, 0, 4, 9,\n",
              "        5, 2, 4, 0, 9, 6, 6, 5, 4, 3, 9, 5, 4, 1, 9, 5, 2, 6, 5, 6, 0, 9, 3, 9,\n",
              "        7, 6, 9, 8, 8, 3, 8, 8, 7, 3, 3, 3, 7, 3, 6, 3])"
            ]
          },
          "metadata": {
            "tags": []
          },
          "execution_count": 19
        }
      ]
    },
    {
      "cell_type": "code",
      "metadata": {
        "id": "_hKzHym-5pxB",
        "colab_type": "code",
        "colab": {
          "base_uri": "https://localhost:8080/",
          "height": 34
        },
        "outputId": "bc6e2248-2eb1-4d9a-b4e7-0a2d0936f6e6"
      },
      "source": [
        "images.size()"
      ],
      "execution_count": 20,
      "outputs": [
        {
          "output_type": "execute_result",
          "data": {
            "text/plain": [
              "torch.Size([64, 3, 224, 224])"
            ]
          },
          "metadata": {
            "tags": []
          },
          "execution_count": 20
        }
      ]
    },
    {
      "cell_type": "code",
      "metadata": {
        "id": "k8W05wbQ5puy",
        "colab_type": "code",
        "colab": {
          "base_uri": "https://localhost:8080/",
          "height": 34
        },
        "outputId": "28130a04-7819-4cb4-966f-bfb79b1f322b"
      },
      "source": [
        "images[0].size()"
      ],
      "execution_count": 21,
      "outputs": [
        {
          "output_type": "execute_result",
          "data": {
            "text/plain": [
              "torch.Size([3, 224, 224])"
            ]
          },
          "metadata": {
            "tags": []
          },
          "execution_count": 21
        }
      ]
    },
    {
      "cell_type": "code",
      "metadata": {
        "id": "-VuaqkSl5psb",
        "colab_type": "code",
        "colab": {}
      },
      "source": [
        "plt.imshow()"
      ],
      "execution_count": 0,
      "outputs": []
    },
    {
      "cell_type": "code",
      "metadata": {
        "id": "tvDymgRD5pqC",
        "colab_type": "code",
        "colab": {
          "base_uri": "https://localhost:8080/",
          "height": 286
        },
        "outputId": "208f02fe-2052-4e98-d236-750e97737af6"
      },
      "source": [
        "plt.imshow(np.clip(np.transpose(images[test_image_id],(1,2,0)),0,1))"
      ],
      "execution_count": 25,
      "outputs": [
        {
          "output_type": "execute_result",
          "data": {
            "text/plain": [
              "<matplotlib.image.AxesImage at 0x7f5393115128>"
            ]
          },
          "metadata": {
            "tags": []
          },
          "execution_count": 25
        },
        {
          "output_type": "display_data",
          "data": {
            "image/png": "[encoded data removed]",
            "text/plain": [
              "<Figure size 432x288 with 1 Axes>"
            ]
          },
          "metadata": {
            "tags": []
          }
        }
      ]
    },
    {
      "cell_type": "code",
      "metadata": {
        "id": "mTUg6-_m5pnq",
        "colab_type": "code",
        "colab": {}
      },
      "source": [
        "z = (x - mean) / std"
      ],
      "execution_count": 0,
      "outputs": []
    },
    {
      "cell_type": "code",
      "metadata": {
        "id": "TVx5ts6i5plM",
        "colab_type": "code",
        "colab": {}
      },
      "source": [
        "def denormalize(tensor):\n",
        "  tensor = tensor*std + mean\n",
        "  return tensor"
      ],
      "execution_count": 0,
      "outputs": []
    },
    {
      "cell_type": "code",
      "metadata": {
        "id": "wPiNhV2D5pi6",
        "colab_type": "code",
        "colab": {}
      },
      "source": [
        "def show_img(img):\n",
        "  img = img.numpy().transpose((1,2,0))\n",
        "  img = denormalize(img)\n",
        "  img = np.clip(img,0,1)\n",
        "  plt.imshow(img)"
      ],
      "execution_count": 0,
      "outputs": []
    },
    {
      "cell_type": "code",
      "metadata": {
        "id": "NRvmkAmD5pgh",
        "colab_type": "code",
        "colab": {
          "base_uri": "https://localhost:8080/",
          "height": 269
        },
        "outputId": "9b871c7f-d9a6-4aac-a02e-071a29f5537a"
      },
      "source": [
        "show_img(images[test_image_id])"
      ],
      "execution_count": 28,
      "outputs": [
        {
          "output_type": "display_data",
          "data": {
            "image/png": "[encoded data removed]",
            "text/plain": [
              "<Figure size 432x288 with 1 Axes>"
            ]
          },
          "metadata": {
            "tags": []
          }
        }
      ]
    },
    {
      "cell_type": "code",
      "metadata": {
        "id": "8OQPRoyO5pd7",
        "colab_type": "code",
        "colab": {}
      },
      "source": [
        "def get_CIFAR10_class(id):\n",
        "  CIFAR10_classes = ['plane', 'car', 'bird', 'cat',\n",
        "           'deer', 'dog', 'frog', 'horse', 'ship', 'truck']\n",
        "  return CIFAR10_classes[id]\n",
        "  "
      ],
      "execution_count": 0,
      "outputs": []
    },
    {
      "cell_type": "code",
      "metadata": {
        "id": "9dVJq6i45pbg",
        "colab_type": "code",
        "colab": {
          "base_uri": "https://localhost:8080/",
          "height": 34
        },
        "outputId": "60c1658c-0970-45cf-dc53-f48d14912ea4"
      },
      "source": [
        "get_CIFAR10_class(pred[test_image_id])"
      ],
      "execution_count": 30,
      "outputs": [
        {
          "output_type": "execute_result",
          "data": {
            "text/plain": [
              "'cat'"
            ]
          },
          "metadata": {
            "tags": []
          },
          "execution_count": 30
        }
      ]
    },
    {
      "cell_type": "code",
      "metadata": {
        "id": "-apBcI5Y5pZO",
        "colab_type": "code",
        "colab": {}
      },
      "source": [
        ""
      ],
      "execution_count": 0,
      "outputs": []
    },
    {
      "cell_type": "code",
      "metadata": {
        "id": "RD_NGXOp5pWz",
        "colab_type": "code",
        "colab": {}
      },
      "source": [
        ""
      ],
      "execution_count": 0,
      "outputs": []
    },
    {
      "cell_type": "code",
      "metadata": {
        "id": "8jWkwI6b5pUl",
        "colab_type": "code",
        "colab": {}
      },
      "source": [
        ""
      ],
      "execution_count": 0,
      "outputs": []
    },
    {
      "cell_type": "code",
      "metadata": {
        "id": "3tyxSgRl5pSS",
        "colab_type": "code",
        "colab": {}
      },
      "source": [
        ""
      ],
      "execution_count": 0,
      "outputs": []
    },
    {
      "cell_type": "code",
      "metadata": {
        "id": "ljkfNWq85pP6",
        "colab_type": "code",
        "colab": {}
      },
      "source": [
        ""
      ],
      "execution_count": 0,
      "outputs": []
    },
    {
      "cell_type": "code",
      "metadata": {
        "id": "nsrAfbj05pNp",
        "colab_type": "code",
        "colab": {}
      },
      "source": [
        ""
      ],
      "execution_count": 0,
      "outputs": []
    },
    {
      "cell_type": "code",
      "metadata": {
        "id": "OysKCt9j5pLR",
        "colab_type": "code",
        "colab": {}
      },
      "source": [
        ""
      ],
      "execution_count": 0,
      "outputs": []
    },
    {
      "cell_type": "code",
      "metadata": {
        "id": "ukrPQ7mqMxI6",
        "colab_type": "code",
        "colab": {}
      },
      "source": [
        ""
      ],
      "execution_count": 0,
      "outputs": []
    },
    {
      "cell_type": "markdown",
      "metadata": {
        "id": "lCoFRFofMx7p",
        "colab_type": "text"
      },
      "source": [
        "## Accuracy of the model"
      ]
    },
    {
      "cell_type": "code",
      "metadata": {
        "colab_type": "code",
        "id": "AxTiil7cXOAz",
        "colab": {
          "base_uri": "https://localhost:8080/",
          "height": 1000
        },
        "outputId": "97336b1e-d503-4e62-c293-b31eaf18e336"
      },
      "source": [
        "model.eval()\n",
        "with torch.no_grad():\n",
        "    num_correct = 0\n",
        "    total = 0\n",
        "\n",
        "    cnt = 0\n",
        "    #set_trace()\n",
        "    for images, labels in testloader:\n",
        "        \n",
        "        logps = model(images)\n",
        "        output = torch.exp(logps)\n",
        "        print(output)\n",
        "        cnt+=1\n",
        "        \n",
        "        if cnt > 0:\n",
        "          break"
      ],
      "execution_count": 31,
      "outputs": [
        {
          "output_type": "stream",
          "text": [
            "tensor([[1.9832e-03, 1.0550e-02, 6.3795e-03, 7.6074e-01, 2.6571e-04, 1.1505e-01,\n",
            "         8.8712e-02, 9.3326e-03, 6.3531e-03, 6.3337e-04],\n",
            "        [1.5985e-02, 7.3376e-02, 1.7617e-05, 4.6779e-05, 9.1411e-07, 6.4348e-06,\n",
            "         3.9405e-06, 4.3039e-06, 9.0967e-01, 8.9272e-04],\n",
            "        [2.3525e-03, 4.9643e-03, 8.2419e-07, 3.4183e-07, 9.6856e-08, 1.3868e-07,\n",
            "         4.3836e-08, 2.3317e-06, 9.9266e-01, 2.4164e-05],\n",
            "        [5.6761e-01, 1.3968e-03, 1.3093e-01, 4.4558e-02, 8.9949e-04, 1.8495e-03,\n",
            "         7.5256e-04, 1.4392e-03, 2.5006e-01, 5.0676e-04],\n",
            "        [2.5387e-08, 5.1702e-08, 1.7746e-03, 5.4802e-05, 6.9596e-05, 2.7163e-06,\n",
            "         9.9810e-01, 8.3080e-08, 6.6045e-08, 1.9301e-07],\n",
            "        [1.8315e-05, 6.9692e-06, 5.1900e-04, 1.0480e-01, 1.8594e-02, 7.8483e-02,\n",
            "         7.9646e-01, 1.0125e-03, 9.4882e-07, 1.0755e-04],\n",
            "        [8.2737e-05, 9.7995e-01, 2.2588e-06, 1.0293e-04, 9.2115e-08, 3.1042e-04,\n",
            "         1.0139e-05, 4.1358e-05, 1.8385e-05, 1.9485e-02],\n",
            "        [2.9829e-02, 7.4390e-03, 7.7395e-02, 7.8617e-02, 1.2615e-02, 1.2893e-02,\n",
            "         6.9257e-01, 3.3930e-02, 1.4023e-02, 4.0688e-02],\n",
            "        [1.7150e-04, 2.1647e-06, 3.1607e-02, 9.5237e-01, 5.5609e-03, 4.6435e-03,\n",
            "         4.4127e-03, 1.1518e-03, 7.6089e-05, 5.9549e-06],\n",
            "        [3.2789e-05, 9.3866e-01, 1.8841e-05, 4.1563e-04, 7.8200e-05, 5.4088e-04,\n",
            "         2.4284e-04, 1.6306e-04, 4.2717e-04, 5.9423e-02],\n",
            "        [9.5760e-01, 2.3708e-05, 9.4614e-03, 9.5979e-03, 4.6561e-03, 2.7074e-03,\n",
            "         3.7893e-04, 1.2332e-02, 2.5998e-03, 6.4182e-04],\n",
            "        [5.0738e-08, 1.4895e-03, 8.9474e-10, 1.0481e-08, 2.5619e-10, 8.5452e-09,\n",
            "         9.1268e-10, 2.3073e-09, 4.8507e-07, 9.9851e-01],\n",
            "        [3.7333e-05, 2.5085e-05, 1.9734e-03, 2.2886e-01, 1.4475e-03, 6.8611e-01,\n",
            "         2.9511e-03, 7.8576e-02, 1.3853e-05, 1.3493e-05],\n",
            "        [2.6812e-04, 3.9851e-04, 1.5085e-02, 1.1912e-01, 2.9201e-03, 1.3633e-01,\n",
            "         2.3185e-03, 7.2273e-01, 7.5906e-05, 7.4774e-04],\n",
            "        [1.4592e-05, 1.8808e-03, 9.0257e-08, 5.1235e-07, 1.3875e-07, 2.6721e-07,\n",
            "         3.7692e-09, 1.5562e-06, 1.9942e-05, 9.9808e-01],\n",
            "        [4.8707e-02, 7.3268e-03, 2.2379e-02, 7.1832e-04, 1.2722e-04, 4.3062e-03,\n",
            "         7.4127e-02, 2.1288e-04, 8.4202e-01, 7.8227e-05],\n",
            "        [7.4917e-06, 3.8198e-06, 2.5777e-04, 7.7843e-02, 2.1463e-05, 9.2101e-01,\n",
            "         7.6824e-05, 7.7154e-04, 5.1895e-06, 6.1406e-06],\n",
            "        [3.7383e-04, 1.2816e-02, 2.6687e-03, 2.8971e-03, 3.0171e-03, 1.2529e-01,\n",
            "         3.9671e-03, 8.4370e-01, 7.3212e-05, 5.1910e-03],\n",
            "        [2.2275e-04, 2.6141e-04, 1.5013e-06, 1.8249e-06, 1.6816e-05, 3.0079e-07,\n",
            "         2.5640e-08, 3.0136e-05, 9.9823e-01, 1.2390e-03],\n",
            "        [1.0958e-04, 1.1972e-05, 6.2406e-03, 7.3736e-04, 1.2788e-03, 4.1044e-05,\n",
            "         9.9155e-01, 2.8512e-06, 2.2705e-05, 7.6510e-06],\n",
            "        [4.1362e-02, 2.9087e-03, 1.3095e-02, 3.4768e-02, 2.9468e-02, 2.6155e-02,\n",
            "         6.5135e-04, 8.4740e-01, 2.5177e-03, 1.6754e-03],\n",
            "        [9.8831e-01, 3.4178e-04, 4.5253e-03, 3.6988e-03, 4.1376e-04, 3.6274e-04,\n",
            "         6.0876e-04, 3.2324e-04, 1.3130e-03, 1.0698e-04],\n",
            "        [1.5834e-01, 1.1943e-04, 6.5838e-02, 1.5975e-02, 6.9894e-01, 4.3883e-03,\n",
            "         3.0083e-02, 7.0758e-03, 1.9198e-02, 4.5163e-05],\n",
            "        [2.1246e-04, 1.9409e-01, 6.5303e-07, 1.9586e-05, 1.2503e-07, 2.7043e-05,\n",
            "         4.9231e-08, 8.1433e-06, 1.7393e-05, 8.0562e-01],\n",
            "        [9.5119e-06, 1.1556e-05, 8.2031e-03, 4.7857e-02, 4.0827e-02, 8.9636e-01,\n",
            "         1.7059e-03, 4.8785e-03, 1.3749e-04, 1.1007e-05],\n",
            "        [6.9281e-04, 3.9103e-05, 7.7425e-01, 3.8126e-02, 7.9288e-02, 2.6214e-02,\n",
            "         5.0255e-04, 8.0739e-02, 1.0384e-04, 4.3850e-05],\n",
            "        [2.5335e-03, 7.5597e-04, 4.2132e-02, 3.1872e-01, 4.8166e-01, 6.3129e-02,\n",
            "         5.1077e-02, 3.5677e-02, 1.8600e-03, 2.4526e-03],\n",
            "        [5.6537e-01, 8.1092e-05, 2.7549e-01, 8.8668e-03, 4.2815e-02, 1.1740e-03,\n",
            "         2.1778e-02, 8.0524e-02, 2.0937e-03, 1.8065e-03],\n",
            "        [1.2038e-05, 8.1266e-04, 1.4183e-07, 2.7410e-06, 8.8281e-07, 7.5155e-07,\n",
            "         6.1543e-08, 2.3118e-05, 8.8006e-06, 9.9914e-01],\n",
            "        [2.4206e-05, 3.1218e-07, 3.0953e-03, 4.3174e-03, 1.8098e-03, 2.3248e-04,\n",
            "         9.9046e-01, 5.4503e-05, 2.4379e-06, 7.9468e-07],\n",
            "        [7.5420e-04, 3.8379e-04, 3.2922e-02, 1.3216e-01, 4.1699e-03, 1.7107e-03,\n",
            "         8.2626e-01, 8.1494e-04, 4.5088e-05, 7.8384e-04],\n",
            "        [3.7497e-06, 3.9809e-05, 6.9479e-03, 1.4594e-02, 4.1793e-03, 9.7060e-01,\n",
            "         1.0372e-03, 2.5854e-03, 1.5473e-05, 2.2712e-06],\n",
            "        [1.6662e-04, 1.2420e-03, 7.8290e-02, 4.8169e-03, 8.8126e-01, 1.1393e-02,\n",
            "         1.9494e-02, 2.7854e-03, 3.5002e-04, 1.9815e-04],\n",
            "        [2.0411e-05, 8.2844e-04, 1.6262e-02, 6.6538e-01, 3.5793e-02, 2.5912e-01,\n",
            "         2.1542e-02, 9.9496e-04, 1.1321e-05, 4.3133e-05],\n",
            "        [2.2850e-03, 1.2184e-04, 9.9294e-07, 4.4895e-07, 1.8805e-06, 3.1192e-07,\n",
            "         5.3865e-08, 4.4601e-06, 4.7175e-04, 9.9711e-01],\n",
            "        [3.5563e-03, 7.0236e-03, 9.8963e-02, 2.6576e-01, 3.5717e-04, 5.9123e-01,\n",
            "         5.5350e-03, 1.2094e-02, 1.0481e-02, 4.9961e-03],\n",
            "        [2.4320e-06, 8.1814e-09, 7.1617e-04, 9.6346e-04, 8.8978e-01, 1.1757e-02,\n",
            "         3.0130e-05, 9.6752e-02, 2.7942e-07, 1.9838e-08],\n",
            "        [4.8900e-04, 6.1765e-01, 1.1478e-06, 2.9687e-05, 3.8323e-06, 7.2385e-06,\n",
            "         2.2440e-07, 1.6076e-05, 5.2697e-05, 3.8175e-01],\n",
            "        [1.4683e-04, 1.3468e-03, 2.2927e-05, 1.6559e-03, 3.8417e-06, 2.5046e-03,\n",
            "         2.4398e-06, 6.3236e-04, 2.5314e-03, 9.9115e-01],\n",
            "        [4.6970e-08, 5.1172e-07, 2.0744e-06, 3.6913e-04, 8.2646e-07, 9.9962e-01,\n",
            "         7.6606e-06, 3.3746e-06, 2.9967e-07, 1.2583e-07],\n",
            "        [2.5406e-01, 1.9627e-03, 5.6272e-01, 4.7772e-03, 6.5682e-02, 1.2710e-03,\n",
            "         1.2475e-02, 9.5959e-02, 6.6753e-04, 4.2574e-04],\n",
            "        [6.8147e-05, 5.0167e-05, 3.2667e-03, 4.9546e-04, 3.7891e-03, 8.9694e-05,\n",
            "         9.9193e-01, 2.0915e-04, 1.0680e-05, 9.0924e-05],\n",
            "        [4.9572e-05, 1.4853e-05, 8.6605e-04, 5.3466e-02, 5.3421e-05, 9.3952e-01,\n",
            "         3.4666e-05, 5.9479e-03, 2.0627e-05, 2.8940e-05],\n",
            "        [9.3510e-05, 1.1254e-04, 7.8406e-03, 3.8542e-02, 1.0970e-03, 1.5362e-02,\n",
            "         9.3627e-01, 9.1947e-05, 3.8518e-04, 2.0745e-04],\n",
            "        [8.4384e-01, 1.0406e-01, 2.2124e-03, 2.8993e-05, 6.0057e-04, 1.4025e-04,\n",
            "         2.0739e-04, 5.2500e-04, 2.0052e-02, 2.8338e-02],\n",
            "        [4.7121e-05, 2.8783e-04, 5.3715e-08, 1.3863e-07, 3.1171e-08, 4.5449e-08,\n",
            "         6.0172e-10, 2.3882e-05, 6.1393e-04, 9.9903e-01],\n",
            "        [6.8462e-06, 4.3754e-04, 1.9116e-02, 6.3344e-01, 3.1405e-02, 2.9377e-01,\n",
            "         5.1241e-03, 1.6368e-02, 1.9630e-04, 1.3232e-04],\n",
            "        [2.6749e-02, 1.6576e-01, 1.6427e-04, 1.0766e-03, 1.5619e-05, 2.8366e-05,\n",
            "         7.0628e-05, 1.0006e-03, 7.6924e-02, 7.2821e-01],\n",
            "        [4.2100e-07, 7.1985e-08, 1.3166e-03, 3.1610e-05, 1.1984e-01, 6.3346e-04,\n",
            "         8.1846e-06, 8.7817e-01, 1.7854e-07, 1.1966e-07],\n",
            "        [1.0195e-04, 5.7376e-05, 5.8158e-02, 9.0107e-04, 7.1424e-03, 2.7570e-03,\n",
            "         9.3080e-01, 2.8034e-05, 5.0988e-05, 5.2688e-07],\n",
            "        [2.5913e-02, 5.9916e-05, 1.2757e-05, 2.2018e-06, 4.5009e-05, 4.9648e-07,\n",
            "         3.6011e-07, 3.5012e-05, 1.7491e-03, 9.7218e-01],\n",
            "        [8.5898e-03, 1.2110e-05, 6.0373e-04, 2.0470e-05, 1.2198e-04, 1.4505e-05,\n",
            "         3.1339e-05, 2.5200e-04, 9.8991e-01, 4.4519e-04],\n",
            "        [3.6247e-01, 5.1673e-04, 1.8410e-02, 4.1590e-03, 4.1406e-04, 1.0494e-02,\n",
            "         2.2482e-02, 5.9596e-04, 5.0982e-01, 7.0637e-02],\n",
            "        [8.7955e-05, 2.6118e-04, 3.1221e-02, 7.9545e-01, 8.8716e-03, 1.6447e-02,\n",
            "         1.4386e-01, 2.1498e-03, 1.5309e-04, 1.4997e-03],\n",
            "        [6.7276e-03, 8.2969e-07, 1.4931e-06, 6.4657e-08, 4.3556e-08, 5.1993e-08,\n",
            "         5.2857e-09, 1.5958e-07, 9.9327e-01, 9.3472e-08],\n",
            "        [8.5582e-04, 2.8774e-06, 8.7151e-04, 4.5984e-05, 1.2384e-04, 1.1741e-04,\n",
            "         6.5852e-08, 1.7691e-04, 9.9780e-01, 7.2796e-06],\n",
            "        [3.0565e-04, 4.7276e-04, 7.9472e-04, 5.5828e-02, 2.3460e-03, 1.7035e-01,\n",
            "         3.2796e-05, 7.6846e-01, 5.2048e-05, 1.3609e-03],\n",
            "        [1.8781e-01, 2.2607e-02, 6.7290e-02, 4.2167e-01, 4.6836e-02, 7.6727e-02,\n",
            "         1.0510e-01, 4.3896e-02, 2.1725e-02, 6.3414e-03],\n",
            "        [3.1893e-03, 2.2215e-04, 1.2229e-02, 4.9462e-01, 6.4532e-02, 3.8734e-01,\n",
            "         7.7737e-03, 2.5346e-02, 3.6189e-03, 1.1271e-03],\n",
            "        [2.3178e-02, 7.2093e-03, 1.3136e-02, 6.7395e-01, 1.3814e-02, 1.8002e-01,\n",
            "         4.6367e-02, 2.7306e-02, 1.0765e-02, 4.2504e-03],\n",
            "        [1.0260e-06, 2.8764e-07, 5.1421e-04, 6.4594e-06, 3.1262e-01, 1.3980e-04,\n",
            "         7.4535e-06, 6.8671e-01, 5.7789e-08, 6.6776e-08],\n",
            "        [7.2243e-05, 4.3903e-05, 1.4906e-01, 4.9644e-01, 5.3501e-03, 3.0996e-01,\n",
            "         1.4372e-02, 2.4589e-02, 5.7029e-05, 5.9274e-05],\n",
            "        [9.1954e-03, 3.4207e-03, 1.4800e-02, 3.1815e-03, 3.3646e-03, 1.9743e-03,\n",
            "         9.5796e-01, 2.7809e-03, 1.6040e-03, 1.7203e-03],\n",
            "        [1.6711e-03, 2.3439e-01, 3.4951e-02, 5.6053e-01, 1.0226e-03, 6.1260e-02,\n",
            "         1.8771e-03, 1.6745e-03, 4.0419e-02, 6.2200e-02]])\n"
          ],
          "name": "stdout"
        }
      ]
    },
    {
      "cell_type": "code",
      "metadata": {
        "id": "nW47-Ot3qWzK",
        "colab_type": "code",
        "colab": {
          "base_uri": "https://localhost:8080/",
          "height": 121
        },
        "outputId": "0c090da7-5985-4c28-fb1e-16383957cae7"
      },
      "source": [
        "pred,labels"
      ],
      "execution_count": 32,
      "outputs": [
        {
          "output_type": "execute_result",
          "data": {
            "text/plain": [
              "(tensor([3, 8, 8, 0, 6, 6, 1, 6, 3, 1, 0, 9, 5, 7, 9, 8, 5, 7, 8, 6, 7, 0, 4, 9,\n",
              "         5, 2, 4, 0, 9, 6, 6, 5, 4, 3, 9, 5, 4, 1, 9, 5, 2, 6, 5, 6, 0, 9, 3, 9,\n",
              "         7, 6, 9, 8, 8, 3, 8, 8, 7, 3, 3, 3, 7, 3, 6, 3]),\n",
              " tensor([3, 8, 8, 0, 6, 6, 1, 6, 3, 1, 0, 9, 5, 7, 9, 8, 5, 7, 8, 6, 7, 0, 4, 9,\n",
              "         5, 2, 4, 0, 9, 6, 6, 5, 4, 5, 9, 2, 4, 1, 9, 5, 4, 6, 5, 6, 0, 9, 3, 9,\n",
              "         7, 6, 9, 8, 0, 3, 8, 8, 7, 7, 4, 6, 7, 3, 6, 3]))"
            ]
          },
          "metadata": {
            "tags": []
          },
          "execution_count": 32
        }
      ]
    },
    {
      "cell_type": "code",
      "metadata": {
        "id": "N8I7S8IkqWiK",
        "colab_type": "code",
        "colab": {
          "base_uri": "https://localhost:8080/",
          "height": 69
        },
        "outputId": "bf2724f2-63f6-4532-809e-a9bfc4fc883e"
      },
      "source": [
        "pred == labels"
      ],
      "execution_count": 33,
      "outputs": [
        {
          "output_type": "execute_result",
          "data": {
            "text/plain": [
              "tensor([1, 1, 1, 1, 1, 1, 1, 1, 1, 1, 1, 1, 1, 1, 1, 1, 1, 1, 1, 1, 1, 1, 1, 1,\n",
              "        1, 1, 1, 1, 1, 1, 1, 1, 1, 0, 1, 0, 1, 1, 1, 1, 0, 1, 1, 1, 1, 1, 1, 1,\n",
              "        1, 1, 1, 1, 0, 1, 1, 1, 1, 0, 0, 0, 1, 1, 1, 1], dtype=torch.uint8)"
            ]
          },
          "metadata": {
            "tags": []
          },
          "execution_count": 33
        }
      ]
    },
    {
      "cell_type": "code",
      "metadata": {
        "id": "AYjDa9SKqWV0",
        "colab_type": "code",
        "colab": {}
      },
      "source": [
        ""
      ],
      "execution_count": 0,
      "outputs": []
    },
    {
      "cell_type": "code",
      "metadata": {
        "id": "ee-QW6qm51Fx",
        "colab_type": "code",
        "colab": {}
      },
      "source": [
        ""
      ],
      "execution_count": 0,
      "outputs": []
    },
    {
      "cell_type": "code",
      "metadata": {
        "id": "VXY13lXc51Dc",
        "colab_type": "code",
        "colab": {}
      },
      "source": [
        ""
      ],
      "execution_count": 0,
      "outputs": []
    },
    {
      "cell_type": "code",
      "metadata": {
        "id": "SdAbUOiy51BJ",
        "colab_type": "code",
        "colab": {}
      },
      "source": [
        ""
      ],
      "execution_count": 0,
      "outputs": []
    },
    {
      "cell_type": "code",
      "metadata": {
        "id": "TPZyUGGM50-Z",
        "colab_type": "code",
        "colab": {}
      },
      "source": [
        ""
      ],
      "execution_count": 0,
      "outputs": []
    },
    {
      "cell_type": "code",
      "metadata": {
        "id": "dqjOGQZP--H4",
        "colab_type": "code",
        "colab": {
          "base_uri": "https://localhost:8080/",
          "height": 121
        },
        "outputId": "6a554c23-5a0b-4b72-ae42-bf09badf1dab"
      },
      "source": [
        "model.eval()\n",
        "with torch.no_grad():\n",
        "    num_correct = 0\n",
        "    total = 0\n",
        "\n",
        "\n",
        "    for batch, (images, labels) in enumerate(testloader,1):\n",
        "        \n",
        "        logps = model(images)\n",
        "        output = torch.exp(logps)\n",
        "        \n",
        "        pred = torch.argmax(output, 1)\n",
        "        total += labels.size(0)\n",
        "        num_correct += (pred == labels).sum().item()\n",
        "        print(f'Batch ({batch}/{len(testloader)})')\n",
        "        \n",
        "        if batch == 5:\n",
        "          break\n",
        "\n",
        "    print(f'Accuracy of the model on {total} test images: {num_correct * 100 / total}% ')"
      ],
      "execution_count": 34,
      "outputs": [
        {
          "output_type": "stream",
          "text": [
            "Batch (1/157)\n",
            "Batch (2/157)\n",
            "Batch (3/157)\n",
            "Batch (4/157)\n",
            "Batch (5/157)\n",
            "Accuracy of the model on 320 test images: 81.875% \n"
          ],
          "name": "stdout"
        }
      ]
    },
    {
      "cell_type": "code",
      "metadata": {
        "id": "WM9bDDWZ59EJ",
        "colab_type": "code",
        "colab": {}
      },
      "source": [
        ""
      ],
      "execution_count": 0,
      "outputs": []
    },
    {
      "cell_type": "code",
      "metadata": {
        "id": "ebWkjRO9XyCi",
        "colab_type": "code",
        "colab": {}
      },
      "source": [
        ""
      ],
      "execution_count": 0,
      "outputs": []
    }
  ]
}